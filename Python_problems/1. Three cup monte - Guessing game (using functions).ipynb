{
 "cells": [
  {
   "cell_type": "code",
   "execution_count": 82,
   "id": "0d3f14ef",
   "metadata": {},
   "outputs": [],
   "source": [
    "# Creating a list and importing shuffle method\n",
    "guess_list = ['','O','']\n",
    "from random import shuffle"
   ]
  },
  {
   "cell_type": "code",
   "execution_count": 54,
   "id": "9da6bc9e",
   "metadata": {},
   "outputs": [],
   "source": [
    "# defining a function that returns a shuffled list\n",
    "def user_guess(mylist): # here mylist is a temp variable name for any list that is called here\n",
    "    shuffle(mylist)\n",
    "    return mylist\n"
   ]
  },
  {
   "cell_type": "code",
   "execution_count": 83,
   "id": "b406fb14",
   "metadata": {},
   "outputs": [],
   "source": [
    "# defining a function for player guessing the index of 'O' in the list\n",
    "def player_guess():\n",
    "    \n",
    "    guess = '' # a place holder to store the user input\n",
    "    guess = input(\"Pick a number: 0, 1 or 2: \")\n",
    "\n",
    "    while guess not in ['0','1','2']: # while loop ensure the user guess index is within the range of list\n",
    "        guess = input(\"Pick a number: 0, 1 or 2: \")\n",
    "    \n",
    "    return int(guess) # convrting guess into an integer"
   ]
  },
  {
   "cell_type": "code",
   "execution_count": 84,
   "id": "29a9b5be",
   "metadata": {},
   "outputs": [],
   "source": [
    "# Checking the user guess in the shuffled list\n",
    "\n",
    "def check_guess(mylist,guess): # mylist and guess are just place holders\n",
    "    if mylist[guess] == 'O': # here the index of string 'O' is checked with the user input \"guess\"\n",
    "        print(\"You are Lucky!\")\n",
    "    else:\n",
    "        print(\"You have no luck at all!\")\n",
    "        print(mylist)"
   ]
  },
  {
   "cell_type": "code",
   "execution_count": 87,
   "id": "59e0da94",
   "metadata": {},
   "outputs": [
    {
     "name": "stdout",
     "output_type": "stream",
     "text": [
      "Pick a number: 0, 1 or 2: 0\n",
      "You are Lucky!\n"
     ]
    }
   ],
   "source": [
    "mylist = ['','O',''] # a list is assigned to a variable name: mylist\n",
    "\n",
    "mixed_up_list = user_guess(mylist) # mylist is passed to function: userguess() and assigned to a variable: mixed_up_list\n",
    "\n",
    "guess = player_guess() # player_guess function is assigned to variable: guess\n",
    "\n",
    "check_guess(mixed_up_list,guess) # mixed_up_list and guess variables are passed into the function: check_guess()"
   ]
  },
  {
   "cell_type": "code",
   "execution_count": null,
   "id": "3d36fbb4",
   "metadata": {},
   "outputs": [],
   "source": []
  }
 ],
 "metadata": {
  "kernelspec": {
   "display_name": "Python 3 (ipykernel)",
   "language": "python",
   "name": "python3"
  },
  "language_info": {
   "codemirror_mode": {
    "name": "ipython",
    "version": 3
   },
   "file_extension": ".py",
   "mimetype": "text/x-python",
   "name": "python",
   "nbconvert_exporter": "python",
   "pygments_lexer": "ipython3",
   "version": "3.9.13"
  }
 },
 "nbformat": 4,
 "nbformat_minor": 5
}
