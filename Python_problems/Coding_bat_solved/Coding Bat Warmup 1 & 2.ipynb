{
 "cells": [
  {
   "cell_type": "markdown",
   "id": "406b8fce",
   "metadata": {},
   "source": [
    "# Coding Bat Warmup-1"
   ]
  },
  {
   "cell_type": "markdown",
   "id": "6f6216cd",
   "metadata": {},
   "source": [
    "Ex 1: sleep_in\n",
    "\n",
    "The parameter weekday is True if it is a weekday, and the parameter vacation is True if we are on vacation. We sleep in if it is not a weekday or we're on vacation. Return True if we sleep in.\n",
    "\n",
    "sleep_in(False, False) → True\n",
    "sleep_in(True, False) → False\n",
    "sleep_in(False, True) → True"
   ]
  },
  {
   "cell_type": "code",
   "execution_count": 5,
   "id": "cf4dfbb3",
   "metadata": {},
   "outputs": [
    {
     "data": {
      "text/plain": [
       "False"
      ]
     },
     "execution_count": 5,
     "metadata": {},
     "output_type": "execute_result"
    }
   ],
   "source": [
    "# Logic 1: multiple conditions\n",
    "\n",
    "def sleep_in(weekday, vacation):\n",
    "  if weekday is False and vacation is True:\n",
    "    return(True)\n",
    "  elif weekday is False and vacation is False:\n",
    "    return(True)\n",
    "  elif weekday is True and vacation is True:\n",
    "    return(True)\n",
    "  else:\n",
    "    return(False)\n",
    "\n",
    "sleep_in(True, False)"
   ]
  },
  {
   "cell_type": "code",
   "execution_count": 9,
   "id": "be2ac649",
   "metadata": {},
   "outputs": [
    {
     "data": {
      "text/plain": [
       "True"
      ]
     },
     "execution_count": 9,
     "metadata": {},
     "output_type": "execute_result"
    }
   ],
   "source": [
    "# Logic 2: single condition\n",
    "\n",
    "def sleep_in(weekday, vacation):\n",
    "  if weekday is True and vacation is False:\n",
    "    return(False)\n",
    "  else:\n",
    "    return(True)\n",
    "\n",
    "sleep_in(True, True)"
   ]
  },
  {
   "cell_type": "markdown",
   "id": "1b2fe0ba",
   "metadata": {},
   "source": [
    "Ex 2: monkey_trouble\n",
    "\n",
    "We have two monkeys, a and b, and the parameters a_smile and b_smile indicate if each is smiling. We are in trouble if they are both smiling or if neither of them is smiling. Return True if we are in trouble.\n",
    "\n",
    "monkey_trouble(True, True) → True\n",
    "monkey_trouble(False, False) → True\n",
    "monkey_trouble(True, False) → False"
   ]
  },
  {
   "cell_type": "code",
   "execution_count": 10,
   "id": "6245b324",
   "metadata": {},
   "outputs": [
    {
     "data": {
      "text/plain": [
       "False"
      ]
     },
     "execution_count": 10,
     "metadata": {},
     "output_type": "execute_result"
    }
   ],
   "source": [
    "def monkey_trouble(a_smile, b_smile):\n",
    "  if a_smile is True and b_smile is False:\n",
    "    return(False)\n",
    "  elif a_smile is False and b_smile is True:\n",
    "    return(False)\n",
    "  else:\n",
    "    return(True)\n",
    "\n",
    "monkey_trouble(True, False)"
   ]
  },
  {
   "cell_type": "markdown",
   "id": "0c7c6785",
   "metadata": {},
   "source": [
    "Ex 3: sum_double\n",
    "\n",
    "Given two int values, return their sum. Unless the two values are the same, then return double their sum.\n",
    "\n",
    "sum_double(1, 2) → 3\n",
    "sum_double(3, 2) → 5\n",
    "sum_double(2, 2) → 8"
   ]
  },
  {
   "cell_type": "code",
   "execution_count": 11,
   "id": "1a2c67ee",
   "metadata": {},
   "outputs": [
    {
     "data": {
      "text/plain": [
       "8"
      ]
     },
     "execution_count": 11,
     "metadata": {},
     "output_type": "execute_result"
    }
   ],
   "source": [
    "def sum_double(a, b):\n",
    "  if a == b:\n",
    "    return((a+b)*2)\n",
    "  else:\n",
    "    return(a+b)\n",
    "\n",
    "sum_double(2, 2)"
   ]
  },
  {
   "cell_type": "markdown",
   "id": "25b9aad9",
   "metadata": {},
   "source": [
    "Ex 4: Diff21\n",
    "\n",
    "Given an int n, return the absolute difference between n and 21, except return double the absolute difference if n is over 21.\n",
    "\n",
    "diff21(19) → 2\n",
    "diff21(10) → 11\n",
    "diff21(21) → 0"
   ]
  },
  {
   "cell_type": "code",
   "execution_count": 2,
   "id": "b4ed84a3",
   "metadata": {},
   "outputs": [
    {
     "data": {
      "text/plain": [
       "0"
      ]
     },
     "execution_count": 2,
     "metadata": {},
     "output_type": "execute_result"
    }
   ],
   "source": [
    "def diff21(n):\n",
    "  if n <= 21:\n",
    "    return(21-n)\n",
    "  else:\n",
    "    return((n-21)*2)\n",
    "\n",
    "diff21(21)"
   ]
  },
  {
   "cell_type": "markdown",
   "id": "954d3c9e",
   "metadata": {},
   "source": [
    "Ex 5: Parrot_trouble\n",
    "\n",
    "We have a loud talking parrot. The \"hour\" parameter is the current hour time in the range 0..23. We are in trouble if the parrot is talking and the hour is before 7 or after 20. Return True if we are in trouble.\n",
    "\n",
    "\n",
    "parrot_trouble(True, 6) → True\n",
    "parrot_trouble(True, 7) → False\n",
    "parrot_trouble(False, 6) → False"
   ]
  },
  {
   "cell_type": "markdown",
   "id": "9b57224e",
   "metadata": {},
   "source": [
    "algorithm breakdown\n",
    "\n",
    "#1. Given parameters: talking, hour\n",
    "#2. def a function with these two parameters\n",
    "#3. create a condition whether talking is True in the hour before 7\n",
    "#4. another condition whether talking is True after hour 20\n",
    "#5. Else statement to return False"
   ]
  },
  {
   "cell_type": "code",
   "execution_count": 4,
   "id": "babe37e7",
   "metadata": {},
   "outputs": [
    {
     "data": {
      "text/plain": [
       "False"
      ]
     },
     "execution_count": 4,
     "metadata": {},
     "output_type": "execute_result"
    }
   ],
   "source": [
    "def parrot_trouble(talking, hour): #2\n",
    "  if talking is True and hour in range(0,7): #3\n",
    "    return True\n",
    "  elif talking is True and hour in range(21,100): #4\n",
    "    return True\n",
    "  else:                                           #5\n",
    "    return False\n",
    "\n",
    "parrot_trouble(True, 7)"
   ]
  },
  {
   "cell_type": "markdown",
   "id": "2d079194",
   "metadata": {},
   "source": [
    "Ex 6: makes10\n",
    "\n",
    "Given 2 ints, a and b, return True if one if them is 10 or if their sum is 10.\n",
    "\n",
    "makes10(9, 10) → True\n",
    "makes10(9, 9) → False\n",
    "makes10(1, 9) → True"
   ]
  },
  {
   "cell_type": "code",
   "execution_count": 12,
   "id": "8e037b34",
   "metadata": {},
   "outputs": [
    {
     "data": {
      "text/plain": [
       "False"
      ]
     },
     "execution_count": 12,
     "metadata": {},
     "output_type": "execute_result"
    }
   ],
   "source": [
    "def makes10(a, b):\n",
    "  if a == 10 or b == 10:\n",
    "    return True\n",
    "  elif a+b == 10:\n",
    "    return True\n",
    "  else:\n",
    "    return False\n",
    "\n",
    "makes10(9, 9)"
   ]
  },
  {
   "cell_type": "markdown",
   "id": "25eb6346",
   "metadata": {},
   "source": [
    "Ex 7: near_hundred\n",
    "\n",
    "Given an int n, return True if it is within 10 of 100 or 200. Note: abs(num) computes the absolute value of a number.\n",
    "\n",
    "near_hundred(93) → True\n",
    "near_hundred(90) → True\n",
    "near_hundred(89) → False"
   ]
  },
  {
   "cell_type": "code",
   "execution_count": 13,
   "id": "eb61566f",
   "metadata": {},
   "outputs": [
    {
     "data": {
      "text/plain": [
       "False"
      ]
     },
     "execution_count": 13,
     "metadata": {},
     "output_type": "execute_result"
    }
   ],
   "source": [
    "def near_hundred(n):\n",
    "  if n in range(90,111):\n",
    "    return True\n",
    "  elif n in range(190,211):\n",
    "    return True\n",
    "  else:\n",
    "    return False\n",
    "\n",
    "near_hundred(89)"
   ]
  },
  {
   "cell_type": "markdown",
   "id": "25e44849",
   "metadata": {},
   "source": [
    "Ex 8: pos_neg\n",
    "\n",
    "Given 2 int values, return True if one is negative and one is positive. Except if the parameter \"negative\" is True, then return True only if both are negative.\n",
    "\n",
    "pos_neg(1, -1, False) → True\n",
    "pos_neg(-1, 1, False) → True\n",
    "pos_neg(-4, -5, True) → True\n",
    "pos_neg(-4,  5, True) → False"
   ]
  },
  {
   "cell_type": "code",
   "execution_count": 14,
   "id": "0a6827df",
   "metadata": {},
   "outputs": [
    {
     "data": {
      "text/plain": [
       "False"
      ]
     },
     "execution_count": 14,
     "metadata": {},
     "output_type": "execute_result"
    }
   ],
   "source": [
    "def pos_neg(a, b, negative):\n",
    "  if a > 0 and b < 0 and negative == False:\n",
    "    return True\n",
    "  elif a < 0 and b > 0 and negative ==  False:\n",
    "    return True\n",
    "  elif (a < 0) and (b < 0) and negative == True:\n",
    "    return True\n",
    "  else:\n",
    "    return False\n",
    "\n",
    "pos_neg(-4, 5, True)"
   ]
  },
  {
   "cell_type": "markdown",
   "id": "965bd233",
   "metadata": {},
   "source": [
    "Ex 9: not_string\n",
    "\n",
    "Given a string, return a new string where \"not \" has been added to the front. However, if the string already begins with \"not\", return the string unchanged.\n",
    "\n",
    "not_string('candy') → 'not candy'\n",
    "not_string('x') → 'not x'\n",
    "not_string('not bad') → 'not bad'"
   ]
  },
  {
   "cell_type": "code",
   "execution_count": 19,
   "id": "47d1b936",
   "metadata": {},
   "outputs": [
    {
     "data": {
      "text/plain": [
       "'not bad'"
      ]
     },
     "execution_count": 19,
     "metadata": {},
     "output_type": "execute_result"
    }
   ],
   "source": [
    "def not_string(str):\n",
    "  if str[:4] == 'not ': # str[:4] returns the characters upto index no. 3\n",
    "                        # \"important logic\"\n",
    "        \n",
    "    return str\n",
    "  else:\n",
    "    return ('not ' + str)\n",
    "\n",
    "not_string('not bad')"
   ]
  },
  {
   "cell_type": "code",
   "execution_count": null,
   "id": "8633f97b",
   "metadata": {},
   "outputs": [],
   "source": []
  }
 ],
 "metadata": {
  "kernelspec": {
   "display_name": "Python 3 (ipykernel)",
   "language": "python",
   "name": "python3"
  },
  "language_info": {
   "codemirror_mode": {
    "name": "ipython",
    "version": 3
   },
   "file_extension": ".py",
   "mimetype": "text/x-python",
   "name": "python",
   "nbconvert_exporter": "python",
   "pygments_lexer": "ipython3",
   "version": "3.9.13"
  }
 },
 "nbformat": 4,
 "nbformat_minor": 5
}
