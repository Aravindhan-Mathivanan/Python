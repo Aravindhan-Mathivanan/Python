{
 "cells": [
  {
   "cell_type": "markdown",
   "id": "40a7de41",
   "metadata": {},
   "source": [
    "# Coding Bat String 2"
   ]
  },
  {
   "cell_type": "markdown",
   "id": "74b1d3c8",
   "metadata": {},
   "source": [
    "Ex 1: double_char\n",
    "\n",
    "Given a string, return a string where for every char in the original, there are two chars.\n",
    "\n",
    "double_char('The') → 'TThhee'\n",
    "double_char('AAbb') → 'AAAAbbbb'\n",
    "double_char('Hi-There') → 'HHii--TThheerree'"
   ]
  },
  {
   "cell_type": "code",
   "execution_count": 1,
   "id": "673dac65",
   "metadata": {},
   "outputs": [
    {
     "data": {
      "text/plain": [
       "'TThhee'"
      ]
     },
     "execution_count": 1,
     "metadata": {},
     "output_type": "execute_result"
    }
   ],
   "source": [
    "# Method 1: using for loop\n",
    "\n",
    "def double_char(string):\n",
    "  x = ''\n",
    "  for i in string:\n",
    "    x += i*2\n",
    "  return x\n",
    "\n",
    "double_char('The')"
   ]
  },
  {
   "cell_type": "code",
   "execution_count": 3,
   "id": "5f920244",
   "metadata": {},
   "outputs": [
    {
     "data": {
      "text/plain": [
       "'TThhee'"
      ]
     },
     "execution_count": 3,
     "metadata": {},
     "output_type": "execute_result"
    }
   ],
   "source": [
    "# Method 2: using join() function\n",
    "\n",
    "def double_char(string):\n",
    "    return ''.join(i*2 for i in string)\n",
    "\n",
    "double_char('The')"
   ]
  },
  {
   "cell_type": "markdown",
   "id": "48351161",
   "metadata": {},
   "source": [
    "Ex 2: count_hi\n",
    "\n",
    "Return the number of times that the string \"hi\" appears anywhere in the given string.\n",
    "\n",
    "count_hi('abc hi ho') → 1\n",
    "count_hi('ABChi hi') → 2\n",
    "count_hi('hihi') → 2"
   ]
  },
  {
   "cell_type": "code",
   "execution_count": 4,
   "id": "ef3b1f3b",
   "metadata": {},
   "outputs": [
    {
     "data": {
      "text/plain": [
       "1"
      ]
     },
     "execution_count": 4,
     "metadata": {},
     "output_type": "execute_result"
    }
   ],
   "source": [
    "def count_hi(string):\n",
    "  return string.count('hi')\n",
    "\n",
    "count_hi('abc hi ho')"
   ]
  },
  {
   "cell_type": "markdown",
   "id": "f0aa1d4a",
   "metadata": {},
   "source": [
    "Ex 3: cat_dog\n",
    "\n",
    "Return True if the string \"cat\" and \"dog\" appear the same number of times in the given string.\n",
    "\n",
    "cat_dog('catdog') → True\n",
    "cat_dog('catcat') → False\n",
    "cat_dog('1cat1cadodog') → True"
   ]
  },
  {
   "cell_type": "code",
   "execution_count": 6,
   "id": "e232af32",
   "metadata": {},
   "outputs": [
    {
     "data": {
      "text/plain": [
       "True"
      ]
     },
     "execution_count": 6,
     "metadata": {},
     "output_type": "execute_result"
    }
   ],
   "source": [
    "def cat_dog(string):\n",
    "  return string.count('cat') == string.count('dog')\n",
    "\n",
    "cat_dog('1cat1cadodog')"
   ]
  },
  {
   "cell_type": "markdown",
   "id": "2e9167b4",
   "metadata": {},
   "source": [
    "Ex 4: count_code\n",
    "\n",
    "Return the number of times that the string \"code\" appears anywhere in the given string, except we'll accept any letter for the 'd', so \"cope\" and \"cooe\" count.\n",
    "\n",
    "count_code('aaacodebbb') → 1\n",
    "count_code('codexxcode') → 2\n",
    "count_code('cozexxcope') → 2"
   ]
  },
  {
   "cell_type": "code",
   "execution_count": 7,
   "id": "f35ba865",
   "metadata": {},
   "outputs": [
    {
     "data": {
      "text/plain": [
       "2"
      ]
     },
     "execution_count": 7,
     "metadata": {},
     "output_type": "execute_result"
    }
   ],
   "source": [
    "def count_code(string):\n",
    "  x = 0\n",
    "  for i in range(len(string)-3): \n",
    "# three is suubtracted from len(string) coz we have to check upto three characters from each character\n",
    "    if (string[i:i+2].lower() == 'co') and (string[i+3] == 'e'):\n",
    "      x += 1\n",
    "  return x\n",
    "\n",
    "count_code('cozexxcope')"
   ]
  },
  {
   "cell_type": "markdown",
   "id": "05ad9fe7",
   "metadata": {},
   "source": [
    "Ex 5: end_other\n",
    "\n",
    "Given two strings, return True if either of the strings appears at the very end of the other string, ignoring upper/lower case differences (in other words, the computation should not be \"case sensitive\"). Note: s.lower() returns the lowercase version of a string.\n",
    "\n",
    "end_other('Hiabc', 'abc') → True\n",
    "end_other('AbC', 'HiaBc') → True\n",
    "end_other('abc', 'abXabc') → True\n",
    "end_other('abcXYZ', 'abcDEF') → False"
   ]
  },
  {
   "cell_type": "code",
   "execution_count": 70,
   "id": "f1cf2ed1",
   "metadata": {},
   "outputs": [
    {
     "data": {
      "text/plain": [
       "True"
      ]
     },
     "execution_count": 70,
     "metadata": {},
     "output_type": "execute_result"
    }
   ],
   "source": [
    "# Method 1: Using string slicing\n",
    "\n",
    "def end_other(a, b):\n",
    "  a1, b1 = len(a), len(b)\n",
    "  if a1 > b1:\n",
    "    return b[::-1].lower() == a[:-b1-1:-1].lower()\n",
    "\n",
    "#here [::-1] reverse the string; whereas [:-b1-1:-1] slice the string from right to left (this slicing happens first before reversal of the string)\n",
    "\n",
    "#For e.g: if a string be 'abcdef', and b1 == 3 it'll slice upto (-3-1)== -4, so the string becomes 'def'\n",
    "\n",
    "  elif b1 >= a1:\n",
    "    return a[::-1].lower() == b[:-a1-1:-1].lower()\n",
    "\n",
    "end_other('abc', 'abXabc')"
   ]
  },
  {
   "cell_type": "code",
   "execution_count": 72,
   "id": "9cff97e0",
   "metadata": {},
   "outputs": [
    {
     "data": {
      "text/plain": [
       "True"
      ]
     },
     "execution_count": 72,
     "metadata": {},
     "output_type": "execute_result"
    }
   ],
   "source": [
    "# Method 2: using endswith()\n",
    "\n",
    "def end_other(a, b):\n",
    "    return a.endswith(b) or b.endswith(a)\n",
    "\n",
    "end_other('abc', 'abXabc')"
   ]
  },
  {
   "cell_type": "markdown",
   "id": "8c6b577d",
   "metadata": {},
   "source": [
    "Ex 6: xyz_there\n",
    "\n",
    "Return True if the given string contains an appearance of \"xyz\" where the xyz is not directly preceeded by a period (.). So \"xxyz\" counts but \"x.xyz\" does not.\n",
    "\n",
    "xyz_there('abcxyz') → True\n",
    "xyz_there('abc.xyz') → False\n",
    "xyz_there('xyz.abc') → True\n",
    "xyz_there('1.xyz.xyz2.xyz') → False"
   ]
  },
  {
   "cell_type": "code",
   "execution_count": 74,
   "id": "76170758",
   "metadata": {},
   "outputs": [
    {
     "data": {
      "text/plain": [
       "False"
      ]
     },
     "execution_count": 74,
     "metadata": {},
     "output_type": "execute_result"
    }
   ],
   "source": [
    "def xyz_there(string):\n",
    "    \n",
    "  # loop through the string from the first character up to the third to last character(i.e -3)\n",
    "  for i in range(1,len(string)-2):\n",
    "    \n",
    "    # slicing string[i-1] to ensure that whether there is a '.' before 'xyz' which is detected by: string[i:i+3]\n",
    "    if string[i:i+3] == 'xyz' and (string[i-1] != '.'):\n",
    "    \n",
    "    # if we find 'xyz' and it's not preceded by a '.', return True\n",
    "      return True\n",
    "  # else return False\n",
    "  return False\n",
    "\n",
    "xyz_there('1.xyz.xyz2.xyz')"
   ]
  },
  {
   "cell_type": "code",
   "execution_count": null,
   "id": "d2051733",
   "metadata": {},
   "outputs": [],
   "source": []
  }
 ],
 "metadata": {
  "kernelspec": {
   "display_name": "Python 3 (ipykernel)",
   "language": "python",
   "name": "python3"
  },
  "language_info": {
   "codemirror_mode": {
    "name": "ipython",
    "version": 3
   },
   "file_extension": ".py",
   "mimetype": "text/x-python",
   "name": "python",
   "nbconvert_exporter": "python",
   "pygments_lexer": "ipython3",
   "version": "3.9.13"
  }
 },
 "nbformat": 4,
 "nbformat_minor": 5
}
