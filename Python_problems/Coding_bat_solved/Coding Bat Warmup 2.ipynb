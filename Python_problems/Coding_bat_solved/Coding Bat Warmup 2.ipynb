{
 "cells": [
  {
   "cell_type": "markdown",
   "id": "90e2246f",
   "metadata": {},
   "source": [
    "# Coding Bat Warmup-2"
   ]
  },
  {
   "cell_type": "markdown",
   "id": "bc139f87",
   "metadata": {},
   "source": [
    "Ex 1: string_times\n",
    "\n",
    "Given a string and a non-negative int n, return a larger string that is n copies of the original string.\n",
    "\n",
    "string_times('Hi', 2) → 'HiHi'\n",
    "string_times('Hi', 3) → 'HiHiHi'\n",
    "string_times('Hi', 1) → 'Hi'"
   ]
  },
  {
   "cell_type": "code",
   "execution_count": 3,
   "id": "c5437568",
   "metadata": {},
   "outputs": [
    {
     "data": {
      "text/plain": [
       "'HiHiHi'"
      ]
     },
     "execution_count": 3,
     "metadata": {},
     "output_type": "execute_result"
    }
   ],
   "source": [
    "def string_times(str, n):\n",
    "  return(str * n)\n",
    "\n",
    "string_times('Hi', 3)"
   ]
  },
  {
   "cell_type": "markdown",
   "id": "0d79cb4f",
   "metadata": {},
   "source": [
    "Ex 2: front_times\n",
    "\n",
    "Given a string and a non-negative int n, we'll say that the front of the string is the first 3 chars, or whatever is there if the string is less than length 3. Return n copies of the front;\n",
    "\n",
    "front_times('Chocolate', 2) → 'ChoCho'\n",
    "front_times('Chocolate', 3) → 'ChoChoCho'\n",
    "front_times('Abc', 3) → 'AbcAbcAbc'"
   ]
  },
  {
   "cell_type": "code",
   "execution_count": 4,
   "id": "2a544829",
   "metadata": {},
   "outputs": [
    {
     "data": {
      "text/plain": [
       "'ChoCho'"
      ]
     },
     "execution_count": 4,
     "metadata": {},
     "output_type": "execute_result"
    }
   ],
   "source": [
    "def front_times(str, n):\n",
    "  return(str[:3] * n)\n",
    "\n",
    "front_times('Chocolate',2)"
   ]
  },
  {
   "cell_type": "markdown",
   "id": "7168133d",
   "metadata": {},
   "source": [
    "Ex 3: string_bits\n",
    "\n",
    "Given a string, return a new string made of every other char starting with the first, so \"Hello\" yields \"Hlo\".\n",
    "(skipping one char from the first)\n",
    "\n",
    "string_bits('Hello') → 'Hlo'\n",
    "string_bits('Hi') → 'H'\n",
    "string_bits('Heeololeo') → 'Hello'"
   ]
  },
  {
   "cell_type": "code",
   "execution_count": 1,
   "id": "e10d1bee",
   "metadata": {},
   "outputs": [
    {
     "data": {
      "text/plain": [
       "'Hello'"
      ]
     },
     "execution_count": 1,
     "metadata": {},
     "output_type": "execute_result"
    }
   ],
   "source": [
    "def string_bits(str):\n",
    "  return(str[0::2])\n",
    "string_bits('Heeololeo')"
   ]
  },
  {
   "cell_type": "markdown",
   "id": "bd19001b",
   "metadata": {},
   "source": [
    "Ex 4: string_splosion\n",
    "\n",
    "Given a non-empty string like \"Code\" return a string like \"CCoCodCode\".\n",
    "\n",
    "string_splosion('Code') → 'CCoCodCode'\n",
    "string_splosion('abc') → 'aababc'\n",
    "string_splosion('ab') → 'aab'"
   ]
  },
  {
   "cell_type": "code",
   "execution_count": 13,
   "id": "fb0af234",
   "metadata": {},
   "outputs": [
    {
     "data": {
      "text/plain": [
       "'bblblablacblack'"
      ]
     },
     "execution_count": 13,
     "metadata": {},
     "output_type": "execute_result"
    }
   ],
   "source": [
    "# method 1: Using string iteration with for loop\n",
    "\n",
    "def string_splosion(string):\n",
    "    result = ''\n",
    "    for i in range(len(string)):\n",
    "        result += string[:i+1]\n",
    "    return result\n",
    "string_splosion('black')"
   ]
  },
  {
   "cell_type": "code",
   "execution_count": 15,
   "id": "fb068e71",
   "metadata": {},
   "outputs": [
    {
     "data": {
      "text/plain": [
       "'bblblablacblack'"
      ]
     },
     "execution_count": 15,
     "metadata": {},
     "output_type": "execute_result"
    }
   ],
   "source": [
    "# method 2: Using recurrsion\n",
    "\n",
    "def string_sploson(string):\n",
    "    if len(string) <= 1:\n",
    "        # here the string is checked whether it is an empty string!\n",
    "        return ''\n",
    "    else:\n",
    "        prefix = string_splosion(string[:-1])\n",
    "        # here a recursive call is made and everything is added to the variable 'prefix'\n",
    "        \n",
    "        # Note: Recursive calls adds string in reverse order i.e added on the left\n",
    "        # For eg: string(abcd) will be added like a + ab + abc\n",
    "        # The abc is obtained first and on top of that ab is added and on that a is added\n",
    "        \n",
    "# It works as a loop and the string goes back to the if statement without the last letter then again it is stored in 'prefix'\n",
    "        return (prefix + string)\n",
    "        # here the prefix is concatenated with the original string!\n",
    "    \n",
    "string_sploson('black')"
   ]
  },
  {
   "cell_type": "markdown",
   "id": "cd2a0162",
   "metadata": {},
   "source": [
    "Ex 5: last2\n",
    "\n",
    "Given a string, return the count of the number of times that any substring length 2 appears in the string and also as the last 2 chars of the string, so \"hixxxhi\" yields 1 (we won't count the end substring) and \"axxxaaxx\" yields 2 (xx, aa and the xx in the end is not counted)\n",
    "\n",
    "last2('hixxhi') → 1\n",
    "last2('xaxxaxaxx') → 1\n",
    "last2('axxxaaxx') → 2\n",
    "last2('h') → 0\n",
    "last2('') → 0\t"
   ]
  },
  {
   "cell_type": "code",
   "execution_count": 35,
   "id": "9ef5b3cf",
   "metadata": {},
   "outputs": [
    {
     "data": {
      "text/plain": [
       "2"
      ]
     },
     "execution_count": 35,
     "metadata": {},
     "output_type": "execute_result"
    }
   ],
   "source": [
    "def last2(string):\n",
    "  sub_string = string[-2:]\n",
    "  str_count = 0\n",
    "  for i in range(len(string)-2):\n",
    "    if string[i:i+2] == sub_string:\n",
    "      str_count += 1\n",
    "  return str_count\n",
    "\n",
    "    \n",
    "last2('axxxaaxx')"
   ]
  },
  {
   "cell_type": "markdown",
   "id": "30f9e25e",
   "metadata": {},
   "source": [
    "Ex 6: array_count9\n",
    "\n",
    "Given an array of ints, return the number of 9's in the array.\n",
    "\n",
    "array_count9([1, 2, 9]) → 1\n",
    "array_count9([1, 9, 9]) → 2\n",
    "array_count9([1, 9, 9, 3, 9]) → 3\n",
    "array_count9([]) → 0"
   ]
  },
  {
   "cell_type": "code",
   "execution_count": 41,
   "id": "9e84da00",
   "metadata": {},
   "outputs": [
    {
     "data": {
      "text/plain": [
       "3"
      ]
     },
     "execution_count": 41,
     "metadata": {},
     "output_type": "execute_result"
    }
   ],
   "source": [
    "def array_count9(nums):\n",
    "  count = 0\n",
    "  for i in nums:\n",
    "    if i == 9:\n",
    "      count += 1\n",
    "  return count\n",
    "\n",
    "array_count9([1, 9, 9, 3, 9])"
   ]
  },
  {
   "cell_type": "markdown",
   "id": "81f17f81",
   "metadata": {},
   "source": [
    "Ex 7: array_front9\n",
    "\n",
    "Given an array of ints, return True if one of the first 4 elements in the array is a 9. The array length may be less than 4.\n",
    "\n",
    "array_front9([1, 2, 9, 3, 4]) → True\n",
    "array_front9([1, 2, 3, 4, 9]) → False\n",
    "array_front9([1, 2, 3, 4, 5]) → False"
   ]
  },
  {
   "cell_type": "code",
   "execution_count": 37,
   "id": "a89f27ec",
   "metadata": {},
   "outputs": [
    {
     "data": {
      "text/plain": [
       "False"
      ]
     },
     "execution_count": 37,
     "metadata": {},
     "output_type": "execute_result"
    }
   ],
   "source": [
    "def array_front9(nums):\n",
    "  for i in nums[0:4]:\n",
    "    if i == 9:\n",
    "      return True\n",
    "  else:\n",
    "    return False\n",
    "\n",
    "array_front9([1, 2, 3, 4, 5])"
   ]
  },
  {
   "cell_type": "markdown",
   "id": "55c728c8",
   "metadata": {},
   "source": [
    "Ex 8: array123\n",
    "\n",
    "Given an array of ints, return True if the sequence of numbers 1, 2, 3 appears in the array somewhere.\n",
    "\n",
    "array123([1, 1, 2, 3, 1]) → True\n",
    "array123([1, 1, 2, 4, 1]) → False\n",
    "array123([1, 1, 2, 1, 2, 3]) → True"
   ]
  },
  {
   "cell_type": "code",
   "execution_count": 38,
   "id": "94de21af",
   "metadata": {},
   "outputs": [
    {
     "data": {
      "text/plain": [
       "True"
      ]
     },
     "execution_count": 38,
     "metadata": {},
     "output_type": "execute_result"
    }
   ],
   "source": [
    "def array123(nums):\n",
    "  seq = [1,2,3,'x']\n",
    "  for i in nums:\n",
    "    if i == seq[0]:\n",
    "      seq.pop(0)\n",
    "  return len(seq) == 1\n",
    "\n",
    "array123([1, 1, 2, 1, 2, 3])"
   ]
  },
  {
   "cell_type": "markdown",
   "id": "ea84ba0b",
   "metadata": {},
   "source": [
    "Ex 8: string_match\n",
    "\n",
    "Given 2 strings, a and b, return the number of the positions where they contain the same length 2 substring. So \"xxcaazz\" and \"xxbaaz\" yields 3, since the \"xx\", \"aa\", and \"az\" substrings appear in the same place in both strings.\n",
    "\n",
    "string_match('xxcaazz', 'xxbaaz') → 3\n",
    "string_match('abc', 'abc') → 2\n",
    "string_match('abc', 'axc') → 0"
   ]
  },
  {
   "cell_type": "code",
   "execution_count": 40,
   "id": "f89705fc",
   "metadata": {},
   "outputs": [
    {
     "data": {
      "text/plain": [
       "3"
      ]
     },
     "execution_count": 40,
     "metadata": {},
     "output_type": "execute_result"
    }
   ],
   "source": [
    "def string_match(a, b):\n",
    "  count = 0\n",
    "  for i in range(len(a)-1):\n",
    "    if a[i:i+2] == b[i:i+2]:\n",
    "      count += 1\n",
    "      \n",
    "  return count\n",
    "\n",
    "string_match('xxcaazz', 'xxbaaz')"
   ]
  },
  {
   "cell_type": "code",
   "execution_count": null,
   "id": "3cfa3f1f",
   "metadata": {},
   "outputs": [],
   "source": []
  }
 ],
 "metadata": {
  "kernelspec": {
   "display_name": "Python 3 (ipykernel)",
   "language": "python",
   "name": "python3"
  },
  "language_info": {
   "codemirror_mode": {
    "name": "ipython",
    "version": 3
   },
   "file_extension": ".py",
   "mimetype": "text/x-python",
   "name": "python",
   "nbconvert_exporter": "python",
   "pygments_lexer": "ipython3",
   "version": "3.9.13"
  }
 },
 "nbformat": 4,
 "nbformat_minor": 5
}
