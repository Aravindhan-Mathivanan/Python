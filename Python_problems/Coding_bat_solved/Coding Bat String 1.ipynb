{
 "cells": [
  {
   "cell_type": "markdown",
   "id": "193f91e7",
   "metadata": {},
   "source": [
    "# Coding Bat String 1"
   ]
  },
  {
   "cell_type": "markdown",
   "id": "a3917a93",
   "metadata": {},
   "source": [
    "Ex: 1 hello_name\n",
    "\n",
    "Given a string name, e.g. \"Bob\", return a greeting of the form \"Hello Bob!\".\n",
    "\n",
    "hello_name('Bob') → 'Hello Bob!'\n",
    "hello_name('Alice') → 'Hello Alice!'\n",
    "hello_name('X') → 'Hello X!'"
   ]
  },
  {
   "cell_type": "code",
   "execution_count": 6,
   "id": "1285f818",
   "metadata": {},
   "outputs": [
    {
     "data": {
      "text/plain": [
       "'Hello Raptor!'"
      ]
     },
     "execution_count": 6,
     "metadata": {},
     "output_type": "execute_result"
    }
   ],
   "source": [
    "# Method 1: using string format\n",
    "\n",
    "def hello_name(name):\n",
    "  return ('Hello {}!'.format(name))\n",
    "\n",
    "hello_name('Raptor')"
   ]
  },
  {
   "cell_type": "code",
   "execution_count": 5,
   "id": "75ccff84",
   "metadata": {},
   "outputs": [
    {
     "data": {
      "text/plain": [
       "'Hello Raptor!'"
      ]
     },
     "execution_count": 5,
     "metadata": {},
     "output_type": "execute_result"
    }
   ],
   "source": [
    "# Method 2: using f-string method\n",
    "\n",
    "def hello_name(name):\n",
    "    return (f\"Hello {name}!\")\n",
    "\n",
    "hello_name('Raptor')"
   ]
  },
  {
   "cell_type": "code",
   "execution_count": 8,
   "id": "522668aa",
   "metadata": {},
   "outputs": [
    {
     "data": {
      "text/plain": [
       "'Hello Raptor!'"
      ]
     },
     "execution_count": 8,
     "metadata": {},
     "output_type": "execute_result"
    }
   ],
   "source": [
    "# Method 3: using string concatenation\n",
    "\n",
    "def hello_name(name):\n",
    "    return('Hello '+ name + '!')\n",
    "\n",
    "hello_name('Raptor')"
   ]
  },
  {
   "cell_type": "markdown",
   "id": "dc25e399",
   "metadata": {},
   "source": [
    "Ex 2: make_abba\n",
    "\n",
    "Given two strings, a and b, return the result of putting them together in the order abba, e.g. \"Hi\" and \"Bye\" returns \"HiByeByeHi\".\n",
    "\n",
    "make_abba('Hi', 'Bye') → 'HiByeByeHi'\n",
    "make_abba('Yo', 'Alice') → 'YoAliceAliceYo'\n",
    "make_abba('What', 'Up') → 'WhatUpUpWhat'"
   ]
  },
  {
   "cell_type": "code",
   "execution_count": 9,
   "id": "399f1a7b",
   "metadata": {},
   "outputs": [
    {
     "data": {
      "text/plain": [
       "'YoAliceAliceYo'"
      ]
     },
     "execution_count": 9,
     "metadata": {},
     "output_type": "execute_result"
    }
   ],
   "source": [
    "def make_abba(a, b):\n",
    "  return a+b+b+a\n",
    "\n",
    "make_abba('Yo', 'Alice')\n",
    "\n",
    "# f-string and string format methods can also be used!"
   ]
  },
  {
   "cell_type": "markdown",
   "id": "85259fb3",
   "metadata": {},
   "source": [
    "Ex 3: make_tags\n",
    "\n",
    "The web is built with HTML strings like \"<i>Yay</i>\" which draws Yay as italic text. In this example, the \"i\" tag makes <i> and </i> which surround the word \"Yay\". Given tag and word strings, create the HTML string with tags around the word, e.g. \"<i>Yay</i>\".\n",
    "\n",
    "make_tags('i', 'Yay') → '<i>Yay</i>'\n",
    "make_tags('i', 'Hello') → '<i>Hello</i>'\n",
    "make_tags('cite', 'Yay') → '<cite>Yay</cite>'"
   ]
  },
  {
   "cell_type": "code",
   "execution_count": 12,
   "id": "d2c17471",
   "metadata": {},
   "outputs": [
    {
     "data": {
      "text/plain": [
       "'<i>Yay</i>'"
      ]
     },
     "execution_count": 12,
     "metadata": {},
     "output_type": "execute_result"
    }
   ],
   "source": [
    "# f string method\n",
    "\n",
    "def make_tags(tag, word):\n",
    "  return f\"<{tag}>{word}</{tag}>\" # Note: when using '/' this it has to be placed outside {}\n",
    "\n",
    "make_tags('i', 'Yay')"
   ]
  },
  {
   "cell_type": "code",
   "execution_count": 13,
   "id": "ecea0e3a",
   "metadata": {},
   "outputs": [
    {
     "data": {
      "text/plain": [
       "'<i>Yay</i>'"
      ]
     },
     "execution_count": 13,
     "metadata": {},
     "output_type": "execute_result"
    }
   ],
   "source": [
    "# format method\n",
    "\n",
    "def make_tags(tag,word):\n",
    "  return '<{}>{}</{}>'.format(tag,word,tag)\n",
    "\n",
    "make_tags('i', 'Yay')"
   ]
  },
  {
   "cell_type": "markdown",
   "id": "0d208d52",
   "metadata": {},
   "source": [
    "Ex 4: make_out_word\n",
    "\n",
    "Given an \"out\" string length 4, such as \"<<>>\", and a word, return a new string where the word is in the middle of the out string, e.g. \"<<word>>\".\n",
    "\n",
    "make_out_word('<<>>', 'Yay') → '<<Yay>>'\n",
    "make_out_word('<<>>', 'WooHoo') → '<<WooHoo>>'\n",
    "make_out_word('[[]]', 'word') → '[[word]]'"
   ]
  },
  {
   "cell_type": "code",
   "execution_count": 3,
   "id": "537bf111",
   "metadata": {},
   "outputs": [
    {
     "data": {
      "text/plain": [
       "'[[word]]'"
      ]
     },
     "execution_count": 3,
     "metadata": {},
     "output_type": "execute_result"
    }
   ],
   "source": [
    "def make_out_word(out,word):\n",
    "    return out[:2]+word+out[2:]\n",
    "\n",
    "make_out_word('[[]]', 'word')"
   ]
  },
  {
   "cell_type": "markdown",
   "id": "1a8a5707",
   "metadata": {},
   "source": [
    "Ex 5: extra_end\n",
    "\n",
    "Given a string, return a new string made of 3 copies of the last 2 chars of the original string. The string length will be at least 2.\n",
    "\n",
    "extra_end('Hello') → 'lololo'\n",
    "extra_end('ab') → 'ababab'\n",
    "extra_end('Hi') → 'HiHiHi'"
   ]
  },
  {
   "cell_type": "code",
   "execution_count": 4,
   "id": "2784f932",
   "metadata": {},
   "outputs": [
    {
     "data": {
      "text/plain": [
       "'lololo'"
      ]
     },
     "execution_count": 4,
     "metadata": {},
     "output_type": "execute_result"
    }
   ],
   "source": [
    "def extra_end(str):\n",
    "  if len(str) < 2:\n",
    "    return ''\n",
    "  else:\n",
    "    return str[-2::]*3\n",
    "\n",
    "extra_end('Hello')"
   ]
  },
  {
   "cell_type": "markdown",
   "id": "fd240f26",
   "metadata": {},
   "source": [
    "Ex 6: first_two\n",
    "\n",
    "Given a string, return the string made of its first two chars, so the String \"Hello\" yields \"He\". If the string is shorter than length 2, return whatever there is, so \"X\" yields \"X\", and the empty string \"\" yields the empty string \"\".\n",
    "\n",
    "first_two('Hello') → 'He'\n",
    "first_two('abcdefg') → 'ab'\n",
    "first_two('ab') → 'ab'"
   ]
  },
  {
   "cell_type": "code",
   "execution_count": 7,
   "id": "de915ae8",
   "metadata": {},
   "outputs": [
    {
     "data": {
      "text/plain": [
       "'ho'"
      ]
     },
     "execution_count": 7,
     "metadata": {},
     "output_type": "execute_result"
    }
   ],
   "source": [
    "def first_two(str):\n",
    "  if len(str) > 2:\n",
    "    return(str[:2])\n",
    "  else:\n",
    "    return(str)\n",
    "\n",
    "first_two('honda')"
   ]
  },
  {
   "cell_type": "markdown",
   "id": "ca844955",
   "metadata": {},
   "source": [
    "Ex 7: first_half\n",
    "\n",
    "Given a string of even length, return the first half. So the string \"WooHoo\" yields \"Woo\".\n",
    "\n",
    "first_half('WooHoo') → 'Woo'\n",
    "first_half('HelloThere') → 'Hello'\n",
    "first_half('abcdef') → 'abc'"
   ]
  },
  {
   "cell_type": "code",
   "execution_count": 54,
   "id": "b13fda9b",
   "metadata": {},
   "outputs": [
    {
     "data": {
      "text/plain": [
       "'abc'"
      ]
     },
     "execution_count": 54,
     "metadata": {},
     "output_type": "execute_result"
    }
   ],
   "source": [
    "def first_half(str):\n",
    "  if len(str) %2 == 0:\n",
    "    x = len(str)//2 # older version use single slash for division\n",
    "    return str[:x]\n",
    "  else:\n",
    "    return \"String is odd\"\n",
    "\n",
    "first_half('abcdef')"
   ]
  },
  {
   "cell_type": "markdown",
   "id": "cc5f3018",
   "metadata": {},
   "source": [
    "Ex 8: without_end\n",
    "\n",
    "Given a string, return a version without the first and last char, so \"Hello\" yields \"ell\". The string length will be at least 2.\n",
    "\n",
    "without_end('Hello') → 'ell'\n",
    "without_end('java') → 'av'\n",
    "without_end('coding') → 'odin'"
   ]
  },
  {
   "cell_type": "code",
   "execution_count": 55,
   "id": "03cb68bb",
   "metadata": {},
   "outputs": [
    {
     "data": {
      "text/plain": [
       "'odin'"
      ]
     },
     "execution_count": 55,
     "metadata": {},
     "output_type": "execute_result"
    }
   ],
   "source": [
    "def without_end(str):\n",
    "  return str[1:-1]\n",
    "\n",
    "without_end('coding')"
   ]
  },
  {
   "cell_type": "markdown",
   "id": "5267f0d8",
   "metadata": {},
   "source": [
    "Ex 9: combo_string\n",
    "\n",
    "Given 2 strings, a and b, return a string of the form short+long+short, with the shorter string on the outside and the longer string on the inside. The strings will not be the same length, but they may be empty (length 0).\n",
    "\n",
    "combo_string('Hello', 'hi') → 'hiHellohi'\n",
    "combo_string('hi', 'Hello') → 'hiHellohi'\n",
    "combo_string('aaa', 'b') → 'baaab'"
   ]
  },
  {
   "cell_type": "code",
   "execution_count": 56,
   "id": "5124ffb2",
   "metadata": {},
   "outputs": [
    {
     "data": {
      "text/plain": [
       "'baaab'"
      ]
     },
     "execution_count": 56,
     "metadata": {},
     "output_type": "execute_result"
    }
   ],
   "source": [
    "def combo_string(a, b):\n",
    "  if len(a) > len(b):\n",
    "    return b+a+b\n",
    "  else:\n",
    "    return a+b+a\n",
    "\n",
    "combo_string('aaa', 'b')"
   ]
  },
  {
   "cell_type": "markdown",
   "id": "3b42d390",
   "metadata": {},
   "source": [
    "Ex 10: non_start\n",
    "\n",
    "Given 2 strings, return their concatenation, except omit the first char of each. The strings will be at least length 1.\n",
    "\n",
    "non_start('Hello', 'There') → 'ellohere'\n",
    "non_start('java', 'code') → 'avaode'\n",
    "non_start('shotl', 'java') → 'hotlava'"
   ]
  },
  {
   "cell_type": "code",
   "execution_count": 57,
   "id": "23f375a5",
   "metadata": {},
   "outputs": [
    {
     "data": {
      "text/plain": [
       "'hotlava'"
      ]
     },
     "execution_count": 57,
     "metadata": {},
     "output_type": "execute_result"
    }
   ],
   "source": [
    "def non_start(a, b):\n",
    "  return a[1:]+b[1:]\n",
    "\n",
    "non_start('shotl', 'java')"
   ]
  },
  {
   "cell_type": "markdown",
   "id": "80867c10",
   "metadata": {},
   "source": [
    "Ex 11: left2\n",
    "\n",
    "Given a string, return a \"rotated left 2\" version where the first 2 chars are moved to the end. The string length will be at least 2.\n",
    "\n",
    "left2('Hello') → 'lloHe'\n",
    "left2('java') → 'vaja'\n",
    "left2('Hi') → 'Hi'"
   ]
  },
  {
   "cell_type": "code",
   "execution_count": 59,
   "id": "43fe3f73",
   "metadata": {},
   "outputs": [
    {
     "data": {
      "text/plain": [
       "'vaja'"
      ]
     },
     "execution_count": 59,
     "metadata": {},
     "output_type": "execute_result"
    }
   ],
   "source": [
    "def left2(string):\n",
    "  if len(string) > 1:\n",
    "    return string[2:]+string[0:2]\n",
    "  else:\n",
    "    return 'string is short'\n",
    "\n",
    "left2('java')"
   ]
  }
 ],
 "metadata": {
  "kernelspec": {
   "display_name": "Python 3 (ipykernel)",
   "language": "python",
   "name": "python3"
  },
  "language_info": {
   "codemirror_mode": {
    "name": "ipython",
    "version": 3
   },
   "file_extension": ".py",
   "mimetype": "text/x-python",
   "name": "python",
   "nbconvert_exporter": "python",
   "pygments_lexer": "ipython3",
   "version": "3.9.13"
  }
 },
 "nbformat": 4,
 "nbformat_minor": 5
}
