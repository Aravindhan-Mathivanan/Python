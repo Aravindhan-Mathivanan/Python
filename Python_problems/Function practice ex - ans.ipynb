{
 "cells": [
  {
   "cell_type": "markdown",
   "id": "9156dd65",
   "metadata": {},
   "source": [
    "# Function practice exercises (Answers)"
   ]
  },
  {
   "cell_type": "markdown",
   "id": "c585bcc4",
   "metadata": {},
   "source": [
    "### 1.0 Warmup section"
   ]
  },
  {
   "cell_type": "markdown",
   "id": "1b6abee6",
   "metadata": {},
   "source": [
    "1.0 LESSER OF TWO EVENS: \n",
    "\n",
    "Write a function that returns the lesser of two given numbers if both numbers are even, but returns the greater if one or both numbers are odd\n",
    "\n",
    "sample i/o:\n",
    "lesser_of_two_evens(2,4) --> 2\n",
    "lesser_of_two_evens(2,5) --> 5"
   ]
  },
  {
   "cell_type": "code",
   "execution_count": 11,
   "id": "20e4f706",
   "metadata": {},
   "outputs": [
    {
     "data": {
      "text/plain": [
       "6"
      ]
     },
     "execution_count": 11,
     "metadata": {},
     "output_type": "execute_result"
    }
   ],
   "source": [
    "# method 1: using bunch of if statements\n",
    "\n",
    "def lesser_of_two_evens(a,b): # defining a function with two arbitrary arguments\n",
    "    if a and b % 2 == 0: # if statement to check whether both numbers are even\n",
    "        if a < b:        # checking whether a is less than b\n",
    "            return (a)\n",
    "        else:\n",
    "            return (b)\n",
    "    elif a or b % 2 != 0: # elif to check whether either one of them is odd\n",
    "        if a > b:         # checking whether a is greater than b\n",
    "            return (a)\n",
    "        else:\n",
    "            return (b)\n",
    "lesser_of_two_evens(2,5)"
   ]
  },
  {
   "cell_type": "code",
   "execution_count": 38,
   "id": "7921467a",
   "metadata": {},
   "outputs": [
    {
     "data": {
      "text/plain": [
       "2"
      ]
     },
     "execution_count": 38,
     "metadata": {},
     "output_type": "execute_result"
    }
   ],
   "source": [
    "# method 2: using max() and min()\n",
    "# note: max() and min() can take only two arguments\n",
    "\n",
    "def lesser_of_two_evens(a,b):\n",
    "    if a and b % 2 == 0:\n",
    "        return min(a,b) # min() returns the minimum of two values\n",
    "    elif a or b % 2 != 0:\n",
    "        return max(a,b) # max() returns the maximum of two values\n",
    "    \n",
    "lesser_of_two_evens(2,4)"
   ]
  },
  {
   "cell_type": "markdown",
   "id": "2290a973",
   "metadata": {},
   "source": [
    "2.0 ANIMAL CRACKERS:\n",
    "\n",
    "Write a function takes a two-word string and returns True if both words begin with same letter\n",
    "\n",
    "animal_crackers('Levelheaded Llama') --> True\n",
    "animal_crackers('Crazy Kangaroo') --> False"
   ]
  },
  {
   "cell_type": "code",
   "execution_count": 27,
   "id": "ef0107ba",
   "metadata": {},
   "outputs": [
    {
     "data": {
      "text/plain": [
       "False"
      ]
     },
     "execution_count": 27,
     "metadata": {},
     "output_type": "execute_result"
    }
   ],
   "source": [
    "def animal_crackers(string): # defining a function with an temporary argument: string\n",
    "    \n",
    "    a,b = string.split(' ') # splitting the string into two based on whitespace and assigned to two variables\n",
    "    \n",
    "    if a[0].lower() == b[0].lower(): # checking whether the first character of both strings are equal\n",
    "                                     # using lower() method to neglect the case differences b/w two characters\n",
    "        return True\n",
    "    else:\n",
    "        return False\n",
    "    \n",
    "animal_crackers('Crazy Kangaroo')"
   ]
  },
  {
   "cell_type": "markdown",
   "id": "a4104bce",
   "metadata": {},
   "source": [
    "3.0 MAKES TWENTY:\n",
    "\n",
    "Given two integers, return True if the sum of the integers is 20 or if one of the integers is 20. If not, return False\n",
    "\n",
    "makes_twenty(20,10) --> True\n",
    "makes_twenty(12,8) --> True\n",
    "makes_twenty(2,3) --> False"
   ]
  },
  {
   "cell_type": "code",
   "execution_count": 2,
   "id": "01c0d9f0",
   "metadata": {},
   "outputs": [
    {
     "data": {
      "text/plain": [
       "True"
      ]
     },
     "execution_count": 2,
     "metadata": {},
     "output_type": "execute_result"
    }
   ],
   "source": [
    "# method 1: using if statements\n",
    "\n",
    "def makes_twenty(a,b): # defining a function with two arbitrary arguments\n",
    "    c = a+b\n",
    "    if c == 20:      # if statements to check the condition\n",
    "        return True\n",
    "    elif a == 20:\n",
    "        return True\n",
    "    elif b == 20:\n",
    "        return True\n",
    "    else:\n",
    "        return False\n",
    "    \n",
    "makes_twenty(20,10)"
   ]
  },
  {
   "cell_type": "code",
   "execution_count": 1,
   "id": "ebc0eb8e",
   "metadata": {},
   "outputs": [
    {
     "data": {
      "text/plain": [
       "False"
      ]
     },
     "execution_count": 1,
     "metadata": {},
     "output_type": "execute_result"
    }
   ],
   "source": [
    "# method 2: using comparison operator: 'or'\n",
    "\n",
    "def makes_twenty(a,b):\n",
    "    c = a+b\n",
    "  #  if a or b or c == 20:\n",
    "\n",
    "  # here the above function is interpreted as (if a) or (if b) or (if c == 20)\n",
    "    \n",
    "  # the 'or' operator checks for the 'truthiness' of a and b; i.e whether a and b !=0 \n",
    "\n",
    "  # In order to use 'or' operator for the comparison it has to be wriiten like this\n",
    "    \n",
    "    if a == 20 or b == 20 or c == 20:\n",
    "        return True\n",
    "    else:\n",
    "        return False\n",
    "makes_twenty(2,3)"
   ]
  },
  {
   "cell_type": "markdown",
   "id": "b27dd84e",
   "metadata": {},
   "source": [
    "### 2.0 Level 1 problems"
   ]
  },
  {
   "cell_type": "markdown",
   "id": "8e174210",
   "metadata": {},
   "source": [
    "1.0 OLD MACDONALD:\n",
    "\n",
    "Write a function that capitalizes the first and fourth letters of a name\n",
    "\n",
    "old_macdonald('macdonald') --> MacDonald"
   ]
  },
  {
   "cell_type": "code",
   "execution_count": 14,
   "id": "b54d77bb",
   "metadata": {},
   "outputs": [
    {
     "data": {
      "text/plain": [
       "'MacDonald'"
      ]
     },
     "execution_count": 14,
     "metadata": {},
     "output_type": "execute_result"
    }
   ],
   "source": [
    "def old_macdonald(string): # defining a function with a temp argument: string\n",
    "    \n",
    "    new_str = ''        # creating an empty string to store the characters of string\n",
    "    \n",
    "    for i in range(len(string)): # range(len(name)) gives the range of numbers from 0 to n characters of a string\n",
    "        \n",
    "        if (i == 0) or (i == 3): # if condition for the indices of the string whether they are at the required places\n",
    "            \n",
    "            new_str += string[i].capitalize() # capitalize the reqd character at the required index and store it in new_str\n",
    "            \n",
    "        else:\n",
    "            new_str += string[i] # store the rest of the characters to the new_str\n",
    "    return (new_str)\n",
    "\n",
    "old_macdonald('macdonald')"
   ]
  },
  {
   "cell_type": "markdown",
   "id": "bfbb1f5a",
   "metadata": {},
   "source": [
    "2.0 MASTER YODA:\n",
    "\n",
    "Given a sentence, return a sentence with the words reversed\n",
    "\n",
    "master_yoda('I am home') --> 'home am I'\n",
    "master_yoda('We are ready') --> 'ready are We'"
   ]
  },
  {
   "cell_type": "code",
   "execution_count": 47,
   "id": "10092ea5",
   "metadata": {},
   "outputs": [
    {
     "data": {
      "text/plain": [
       "'ready are We'"
      ]
     },
     "execution_count": 47,
     "metadata": {},
     "output_type": "execute_result"
    }
   ],
   "source": [
    "def master_yoda(string): # creating function\n",
    "    \n",
    "    # generally splitting a string returns a list\n",
    "    out = string.split(' ') # here the string is split on ' '(whitespace) and assigned to variable out\n",
    "    \n",
    "    for i in out:     \n",
    "        out = out[::-1] # here [::-1] reverse the characters inside the list in 'out' and re-assign to it\n",
    "    return ' '.join(out) # here the join method joins the characters inside the list (out) with ' '(whitespace) between them\n",
    "\n",
    "master_yoda('We are ready')"
   ]
  },
  {
   "cell_type": "markdown",
   "id": "6a9dff95",
   "metadata": {},
   "source": [
    "3.0 ALMOST THERE:\n",
    "\n",
    "Given an integer n, return True if n is within 10 of either 100 or 200\n",
    "\n",
    "almost_there(90) --> True\n",
    "almost_there(104) --> True\n",
    "almost_there(150) --> False\n",
    "almost_there(209) --> True\n",
    "\n",
    "NOTE: abs(num) returns the absolute value of a number"
   ]
  },
  {
   "cell_type": "code",
   "execution_count": 65,
   "id": "091b9a1a",
   "metadata": {},
   "outputs": [
    {
     "data": {
      "text/plain": [
       "False"
      ]
     },
     "execution_count": 65,
     "metadata": {},
     "output_type": "execute_result"
    }
   ],
   "source": [
    "def almost_there(num):\n",
    "    if (num in range(90,111)) or (num in range(190,211)):\n",
    "        return True\n",
    "    else:\n",
    "        return False\n",
    "almost_there(150)"
   ]
  },
  {
   "cell_type": "markdown",
   "id": "4642c9e1",
   "metadata": {},
   "source": [
    "### 3.0 Level 2 problems"
   ]
  },
  {
   "cell_type": "markdown",
   "id": "8af7b448",
   "metadata": {},
   "source": [
    "1.0 FIND 33:\n",
    "Given a list of ints, return True if the array contains a 3 next to a 3 somewhere.\n",
    "\n",
    "has_33([1, 3, 3]) → True\n",
    "has_33([1, 3, 1, 3]) → False\n",
    "has_33([3, 1, 3]) → False"
   ]
  },
  {
   "cell_type": "code",
   "execution_count": 11,
   "id": "df4389eb",
   "metadata": {},
   "outputs": [
    {
     "ename": "TypeError",
     "evalue": "can only concatenate str (not \"int\") to str",
     "output_type": "error",
     "traceback": [
      "\u001b[1;31m---------------------------------------------------------------------------\u001b[0m",
      "\u001b[1;31mTypeError\u001b[0m                                 Traceback (most recent call last)",
      "\u001b[1;32m~\\AppData\\Local\\Temp\\ipykernel_15948\\3571101699.py\u001b[0m in \u001b[0;36m<module>\u001b[1;34m\u001b[0m\n\u001b[0;32m      8\u001b[0m             \u001b[1;32mreturn\u001b[0m \u001b[1;32mFalse\u001b[0m\u001b[1;33m\u001b[0m\u001b[1;33m\u001b[0m\u001b[0m\n\u001b[0;32m      9\u001b[0m \u001b[1;33m\u001b[0m\u001b[0m\n\u001b[1;32m---> 10\u001b[1;33m \u001b[0mhas_33\u001b[0m\u001b[1;33m(\u001b[0m\u001b[1;33m[\u001b[0m\u001b[1;36m1\u001b[0m\u001b[1;33m,\u001b[0m \u001b[1;36m3\u001b[0m\u001b[1;33m,\u001b[0m \u001b[1;36m3\u001b[0m\u001b[1;33m]\u001b[0m\u001b[1;33m)\u001b[0m\u001b[1;33m\u001b[0m\u001b[1;33m\u001b[0m\u001b[0m\n\u001b[0m",
      "\u001b[1;32m~\\AppData\\Local\\Temp\\ipykernel_15948\\3571101699.py\u001b[0m in \u001b[0;36mhas_33\u001b[1;34m(mylist)\u001b[0m\n\u001b[0;32m      2\u001b[0m     \u001b[0mx\u001b[0m \u001b[1;33m=\u001b[0m \u001b[1;34m''\u001b[0m\u001b[1;33m\u001b[0m\u001b[1;33m\u001b[0m\u001b[0m\n\u001b[0;32m      3\u001b[0m     \u001b[1;32mfor\u001b[0m \u001b[0mi\u001b[0m \u001b[1;32min\u001b[0m \u001b[0mrange\u001b[0m\u001b[1;33m(\u001b[0m\u001b[0mlen\u001b[0m\u001b[1;33m(\u001b[0m\u001b[0mmylist\u001b[0m\u001b[1;33m)\u001b[0m\u001b[1;33m)\u001b[0m\u001b[1;33m:\u001b[0m\u001b[1;33m\u001b[0m\u001b[1;33m\u001b[0m\u001b[0m\n\u001b[1;32m----> 4\u001b[1;33m         \u001b[0mx\u001b[0m \u001b[1;33m+=\u001b[0m \u001b[0mmylist\u001b[0m\u001b[1;33m[\u001b[0m\u001b[0mi\u001b[0m\u001b[1;33m]\u001b[0m\u001b[1;33m\u001b[0m\u001b[1;33m\u001b[0m\u001b[0m\n\u001b[0m\u001b[0;32m      5\u001b[0m         \u001b[1;32mif\u001b[0m \u001b[1;34m'33'\u001b[0m \u001b[1;32min\u001b[0m \u001b[0mx\u001b[0m\u001b[1;33m:\u001b[0m\u001b[1;33m\u001b[0m\u001b[1;33m\u001b[0m\u001b[0m\n\u001b[0;32m      6\u001b[0m             \u001b[1;32mreturn\u001b[0m \u001b[1;32mTrue\u001b[0m\u001b[1;33m\u001b[0m\u001b[1;33m\u001b[0m\u001b[0m\n",
      "\u001b[1;31mTypeError\u001b[0m: can only concatenate str (not \"int\") to str"
     ]
    }
   ],
   "source": [
    "def has_33(mylist):\n",
    "    x = ''\n",
    "    for i in range(len(mylist)):\n",
    "        x += mylist[i]\n",
    "        if '33' in x:\n",
    "            return True\n",
    "        else:\n",
    "            return False\n",
    "\n",
    "has_33([1, 3, 3])"
   ]
  },
  {
   "cell_type": "markdown",
   "id": "3d1bcdf0",
   "metadata": {},
   "source": [
    "2.0 PAPER DOLL:\n",
    "Given a string, return a string where for every character in the original there are three characters\n",
    "\n",
    "paper_doll('Hello') --> 'HHHeeellllllooo'\n",
    "paper_doll('Mississippi') --> 'MMMiiissssssiiippppppiii'"
   ]
  },
  {
   "cell_type": "code",
   "execution_count": 16,
   "id": "5357327a",
   "metadata": {},
   "outputs": [
    {
     "data": {
      "text/plain": [
       "'MMMiiissssssiiissssssiiippppppiii'"
      ]
     },
     "execution_count": 16,
     "metadata": {},
     "output_type": "execute_result"
    }
   ],
   "source": [
    "def paper_doll(string):\n",
    "    new_str = ''\n",
    "    for i in range(len(string)):\n",
    "        new_str += string[i]*3\n",
    "    return(new_str)\n",
    "paper_doll('Mississippi')"
   ]
  },
  {
   "cell_type": "markdown",
   "id": "7575c3b6",
   "metadata": {},
   "source": [
    "3.0 BLACKJACK:\n",
    "Given three integers between 1 and 11, if their sum is less than or equal to 21, return their sum. If their sum exceeds 21 and there's an eleven, reduce the total sum by 10. Finally, if the sum (even after adjustment) exceeds 21, return 'BUST'\n",
    "blackjack(5,6,7) --> 18\n",
    "blackjack(9,9,9) --> 'BUST'\n",
    "blackjack(9,9,11) --> 19"
   ]
  },
  {
   "cell_type": "code",
   "execution_count": 20,
   "id": "a2ac53ca",
   "metadata": {},
   "outputs": [
    {
     "data": {
      "text/plain": [
       "19"
      ]
     },
     "execution_count": 20,
     "metadata": {},
     "output_type": "execute_result"
    }
   ],
   "source": [
    "def blackjack(a,b,c):\n",
    "    total = a+b+c\n",
    "    if total <= 21:\n",
    "        return(total)\n",
    "    elif total > 21 and ((a == 11) or (b==11) or (c==11)):\n",
    "        new_t = total - 10\n",
    "        return(new_t)\n",
    "    elif total > 21:\n",
    "        return('BUST')\n",
    "\n",
    "blackjack(9,9,11)"
   ]
  },
  {
   "cell_type": "markdown",
   "id": "5369f588",
   "metadata": {},
   "source": [
    "SUMMER OF '69:\n",
    "Return the sum of the numbers in the array, except ignore sections of numbers starting with a 6 and extending to the next 9 (every 6 will be followed by at least one 9). Return 0 for no numbers.\n",
    "summer_69([1, 3, 5]) --> 9\n",
    "summer_69([4, 5, 6, 7, 8, 9]) --> 9\n",
    "summer_69([2, 1, 6, 9, 11]) --> 14"
   ]
  },
  {
   "cell_type": "code",
   "execution_count": 9,
   "id": "bc028e5a",
   "metadata": {},
   "outputs": [
    {
     "ename": "NameError",
     "evalue": "name 'sumo' is not defined",
     "output_type": "error",
     "traceback": [
      "\u001b[1;31m---------------------------------------------------------------------------\u001b[0m",
      "\u001b[1;31mNameError\u001b[0m                                 Traceback (most recent call last)",
      "\u001b[1;32m~\\AppData\\Local\\Temp\\ipykernel_11848\\938727199.py\u001b[0m in \u001b[0;36m<module>\u001b[1;34m\u001b[0m\n\u001b[0;32m      6\u001b[0m             \u001b[1;32mreturn\u001b[0m \u001b[1;33m(\u001b[0m\u001b[1;36m0\u001b[0m\u001b[1;33m)\u001b[0m\u001b[1;33m\u001b[0m\u001b[1;33m\u001b[0m\u001b[0m\n\u001b[0;32m      7\u001b[0m \u001b[1;33m\u001b[0m\u001b[0m\n\u001b[1;32m----> 8\u001b[1;33m \u001b[0msummer_69\u001b[0m\u001b[1;33m(\u001b[0m\u001b[1;33m[\u001b[0m\u001b[1;36m4\u001b[0m\u001b[1;33m,\u001b[0m \u001b[1;36m5\u001b[0m\u001b[1;33m,\u001b[0m \u001b[1;36m6\u001b[0m\u001b[1;33m,\u001b[0m \u001b[1;36m7\u001b[0m\u001b[1;33m,\u001b[0m \u001b[1;36m8\u001b[0m\u001b[1;33m,\u001b[0m \u001b[1;36m9\u001b[0m\u001b[1;33m]\u001b[0m\u001b[1;33m)\u001b[0m\u001b[1;33m\u001b[0m\u001b[1;33m\u001b[0m\u001b[0m\n\u001b[0m",
      "\u001b[1;32m~\\AppData\\Local\\Temp\\ipykernel_11848\\938727199.py\u001b[0m in \u001b[0;36msummer_69\u001b[1;34m(mylist)\u001b[0m\n\u001b[0;32m      2\u001b[0m     \u001b[1;32mfor\u001b[0m \u001b[0mi\u001b[0m \u001b[1;32min\u001b[0m \u001b[0mmylist\u001b[0m\u001b[1;33m:\u001b[0m\u001b[1;33m\u001b[0m\u001b[1;33m\u001b[0m\u001b[0m\n\u001b[0;32m      3\u001b[0m         \u001b[1;32mfor\u001b[0m \u001b[0mi\u001b[0m \u001b[1;32min\u001b[0m \u001b[0mrange\u001b[0m\u001b[1;33m(\u001b[0m\u001b[1;36m6\u001b[0m\u001b[1;33m,\u001b[0m\u001b[1;36m10\u001b[0m\u001b[1;33m)\u001b[0m\u001b[1;33m:\u001b[0m\u001b[1;33m\u001b[0m\u001b[1;33m\u001b[0m\u001b[0m\n\u001b[1;32m----> 4\u001b[1;33m             \u001b[1;32mreturn\u001b[0m\u001b[1;33m(\u001b[0m\u001b[0msumo\u001b[0m\u001b[1;33m)\u001b[0m\u001b[1;33m\u001b[0m\u001b[1;33m\u001b[0m\u001b[0m\n\u001b[0m\u001b[0;32m      5\u001b[0m         \u001b[1;32mif\u001b[0m \u001b[0msumo\u001b[0m \u001b[1;33m==\u001b[0m \u001b[1;36m0\u001b[0m\u001b[1;33m:\u001b[0m\u001b[1;33m\u001b[0m\u001b[1;33m\u001b[0m\u001b[0m\n\u001b[0;32m      6\u001b[0m             \u001b[1;32mreturn\u001b[0m \u001b[1;33m(\u001b[0m\u001b[1;36m0\u001b[0m\u001b[1;33m)\u001b[0m\u001b[1;33m\u001b[0m\u001b[1;33m\u001b[0m\u001b[0m\n",
      "\u001b[1;31mNameError\u001b[0m: name 'sumo' is not defined"
     ]
    }
   ],
   "source": [
    "def summer_69(mylist):\n",
    "    for i in mylist:\n",
    "        for i in range(6,10):\n",
    "            return(sumo)\n",
    "        if sumo == 0:\n",
    "            return (0)\n",
    "\n",
    "summer_69([4, 5, 6, 7, 8, 9])"
   ]
  },
  {
   "cell_type": "markdown",
   "id": "d2bd7ef7",
   "metadata": {},
   "source": [
    "### 4.0 Challenging problems"
   ]
  },
  {
   "cell_type": "markdown",
   "id": "985cd1bb",
   "metadata": {},
   "source": [
    "1.0 SPY GAME:\n",
    "Write a function that takes in a list of integers and returns True if it contains 007 in order\n",
    "spy_game([1,2,4,0,0,7,5]) --> True\n",
    "spy_game([1,0,2,4,0,5,7]) --> True\n",
    "spy_game([1,7,2,0,4,5,0]) --> False"
   ]
  },
  {
   "cell_type": "code",
   "execution_count": 10,
   "id": "8474e08e",
   "metadata": {},
   "outputs": [
    {
     "ename": "IndentationError",
     "evalue": "expected an indented block (905556607.py, line 2)",
     "output_type": "error",
     "traceback": [
      "\u001b[1;36m  File \u001b[1;32m\"C:\\Users\\Aravindhan\\AppData\\Local\\Temp\\ipykernel_11848\\905556607.py\"\u001b[1;36m, line \u001b[1;32m2\u001b[0m\n\u001b[1;33m    \u001b[0m\n\u001b[1;37m    ^\u001b[0m\n\u001b[1;31mIndentationError\u001b[0m\u001b[1;31m:\u001b[0m expected an indented block\n"
     ]
    }
   ],
   "source": [
    "def spy_game():\n",
    "    "
   ]
  },
  {
   "cell_type": "markdown",
   "id": "452541d2",
   "metadata": {},
   "source": [
    "2.0 COUNT PRIMES:\n",
    "Write a function that returns the number of prime numbers that exist up to and including a given number\n",
    "count_primes(100) --> 25\n",
    "\n",
    "By convention, 0 and 1 are not prime"
   ]
  },
  {
   "cell_type": "code",
   "execution_count": 36,
   "id": "dddc3713",
   "metadata": {},
   "outputs": [
    {
     "ename": "IndentationError",
     "evalue": "unindent does not match any outer indentation level (<tokenize>, line 6)",
     "output_type": "error",
     "traceback": [
      "\u001b[1;36m  File \u001b[1;32m\"<tokenize>\"\u001b[1;36m, line \u001b[1;32m6\u001b[0m\n\u001b[1;33m    else:\u001b[0m\n\u001b[1;37m    ^\u001b[0m\n\u001b[1;31mIndentationError\u001b[0m\u001b[1;31m:\u001b[0m unindent does not match any outer indentation level\n"
     ]
    }
   ],
   "source": [
    "def count_primes(num):\n",
    "    x = []\n",
    "    for i in range(2,num+1):\n",
    "        \n",
    "            pass\n",
    "        else:\n",
    "            x.append(i)            \n",
    "    return(len(x))\n",
    "\n",
    "count_primes(100)"
   ]
  },
  {
   "cell_type": "code",
   "execution_count": null,
   "id": "95931e52",
   "metadata": {},
   "outputs": [],
   "source": []
  }
 ],
 "metadata": {
  "kernelspec": {
   "display_name": "Python 3 (ipykernel)",
   "language": "python",
   "name": "python3"
  },
  "language_info": {
   "codemirror_mode": {
    "name": "ipython",
    "version": 3
   },
   "file_extension": ".py",
   "mimetype": "text/x-python",
   "name": "python",
   "nbconvert_exporter": "python",
   "pygments_lexer": "ipython3",
   "version": "3.9.13"
  }
 },
 "nbformat": 4,
 "nbformat_minor": 5
}
