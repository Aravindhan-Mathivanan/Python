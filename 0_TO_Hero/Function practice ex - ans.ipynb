{
 "cells": [
  {
   "cell_type": "markdown",
   "id": "9156dd65",
   "metadata": {},
   "source": [
    "# Function practice exercises (Answers)"
   ]
  },
  {
   "cell_type": "markdown",
   "id": "c585bcc4",
   "metadata": {},
   "source": [
    "### 1.0 Warmup section"
   ]
  },
  {
   "cell_type": "markdown",
   "id": "1b6abee6",
   "metadata": {},
   "source": [
    "1.0 LESSER OF TWO EVENS: \n",
    "\n",
    "Write a function that returns the lesser of two given numbers if both numbers are even, but returns the greater if one or both numbers are odd\n",
    "\n",
    "sample i/o:\n",
    "lesser_of_two_evens(2,4) --> 2\n",
    "lesser_of_two_evens(2,5) --> 5"
   ]
  },
  {
   "cell_type": "code",
   "execution_count": 11,
   "id": "20e4f706",
   "metadata": {},
   "outputs": [
    {
     "data": {
      "text/plain": [
       "6"
      ]
     },
     "execution_count": 11,
     "metadata": {},
     "output_type": "execute_result"
    }
   ],
   "source": [
    "# method 1: using bunch of if statements\n",
    "\n",
    "def lesser_of_two_evens(a,b): # defining a function with two arbitrary arguments\n",
    "    if a and b % 2 == 0: # if statement to check whether both numbers are even\n",
    "        if a < b:        # checking whether a is less than b\n",
    "            return (a)\n",
    "        else:\n",
    "            return (b)\n",
    "    elif a or b % 2 != 0: # elif to check whether either one of them is odd\n",
    "        if a > b:         # checking whether a is greater than b\n",
    "            return (a)\n",
    "        else:\n",
    "            return (b)\n",
    "lesser_of_two_evens(2,5)"
   ]
  },
  {
   "cell_type": "code",
   "execution_count": 38,
   "id": "7921467a",
   "metadata": {},
   "outputs": [
    {
     "data": {
      "text/plain": [
       "2"
      ]
     },
     "execution_count": 38,
     "metadata": {},
     "output_type": "execute_result"
    }
   ],
   "source": [
    "# method 2: using max() and min()\n",
    "# note: max() and min() can take only two arguments\n",
    "\n",
    "def lesser_of_two_evens(a,b):\n",
    "    if a and b % 2 == 0:\n",
    "        return min(a,b) # min() returns the minimum of two values\n",
    "    elif a or b % 2 != 0:\n",
    "        return max(a,b) # max() returns the maximum of two values\n",
    "    \n",
    "lesser_of_two_evens(2,4)"
   ]
  },
  {
   "cell_type": "markdown",
   "id": "2290a973",
   "metadata": {},
   "source": [
    "2.0 ANIMAL CRACKERS:\n",
    "\n",
    "Write a function takes a two-word string and returns True if both words begin with same letter\n",
    "\n",
    "animal_crackers('Levelheaded Llama') --> True\n",
    "animal_crackers('Crazy Kangaroo') --> False"
   ]
  },
  {
   "cell_type": "code",
   "execution_count": 27,
   "id": "ef0107ba",
   "metadata": {},
   "outputs": [
    {
     "data": {
      "text/plain": [
       "False"
      ]
     },
     "execution_count": 27,
     "metadata": {},
     "output_type": "execute_result"
    }
   ],
   "source": [
    "def animal_crackers(string): # defining a function with an temporary argument: string\n",
    "    \n",
    "    a,b = string.split(' ') # splitting the string into two based on whitespace and assigned to two variables\n",
    "    \n",
    "    if a[0].lower() == b[0].lower(): # checking whether the first character of both strings are equal\n",
    "                                     # using lower() method to neglect the case differences b/w two characters\n",
    "        return True\n",
    "    else:\n",
    "        return False\n",
    "    \n",
    "animal_crackers('Crazy Kangaroo')"
   ]
  },
  {
   "cell_type": "markdown",
   "id": "a4104bce",
   "metadata": {},
   "source": [
    "3.0 MAKES TWENTY:\n",
    "\n",
    "Given two integers, return True if the sum of the integers is 20 or if one of the integers is 20. If not, return False\n",
    "\n",
    "makes_twenty(20,10) --> True\n",
    "makes_twenty(12,8) --> True\n",
    "makes_twenty(2,3) --> False"
   ]
  },
  {
   "cell_type": "code",
   "execution_count": 2,
   "id": "01c0d9f0",
   "metadata": {},
   "outputs": [
    {
     "data": {
      "text/plain": [
       "True"
      ]
     },
     "execution_count": 2,
     "metadata": {},
     "output_type": "execute_result"
    }
   ],
   "source": [
    "# method 1: using if statements\n",
    "\n",
    "def makes_twenty(a,b): # defining a function with two arbitrary arguments\n",
    "    c = a+b\n",
    "    if c == 20:      # if statements to check the condition\n",
    "        return True\n",
    "    elif a == 20:\n",
    "        return True\n",
    "    elif b == 20:\n",
    "        return True\n",
    "    else:\n",
    "        return False\n",
    "    \n",
    "makes_twenty(20,10)"
   ]
  },
  {
   "cell_type": "code",
   "execution_count": 1,
   "id": "ebc0eb8e",
   "metadata": {},
   "outputs": [
    {
     "data": {
      "text/plain": [
       "False"
      ]
     },
     "execution_count": 1,
     "metadata": {},
     "output_type": "execute_result"
    }
   ],
   "source": [
    "# method 2: using comparison operator: 'or'\n",
    "\n",
    "def makes_twenty(a,b):\n",
    "    c = a+b\n",
    "  #  if a or b or c == 20:\n",
    "\n",
    "  # here the above function is interpreted as (if a) or (if b) or (if c == 20)\n",
    "    \n",
    "  # the 'or' operator checks for the 'truthiness' of a and b; i.e whether a and b !=0 \n",
    "\n",
    "  # In order to use 'or' operator for the comparison it has to be wriiten like this\n",
    "    \n",
    "    if a == 20 or b == 20 or c == 20:\n",
    "        return True\n",
    "    else:\n",
    "        return False\n",
    "makes_twenty(2,3)"
   ]
  },
  {
   "cell_type": "markdown",
   "id": "b27dd84e",
   "metadata": {},
   "source": [
    "### 2.0 Level 1 problems"
   ]
  },
  {
   "cell_type": "markdown",
   "id": "8e174210",
   "metadata": {},
   "source": [
    "1.0 OLD MACDONALD:\n",
    "\n",
    "Write a function that capitalizes the first and fourth letters of a name\n",
    "\n",
    "old_macdonald('macdonald') --> MacDonald"
   ]
  },
  {
   "cell_type": "code",
   "execution_count": 14,
   "id": "b54d77bb",
   "metadata": {},
   "outputs": [
    {
     "data": {
      "text/plain": [
       "'MacDonald'"
      ]
     },
     "execution_count": 14,
     "metadata": {},
     "output_type": "execute_result"
    }
   ],
   "source": [
    "# method 1: using loop and conditions\n",
    "\n",
    "def old_macdonald(string): # defining a function with a temp argument: string\n",
    "    \n",
    "    new_str = ''        # creating an empty string to store the characters of string\n",
    "    \n",
    "    for i in range(len(string)): # range(len(name)) gives the range of numbers from 0 to n characters of a string\n",
    "        \n",
    "        if (i == 0) or (i == 3): # if condition for the indices of the string whether they are at the required places\n",
    "            \n",
    "            new_str += string[i].capitalize() # capitalize the reqd character at the required index and store it in new_str\n",
    "            \n",
    "        else:\n",
    "            new_str += string[i] # store the rest of the characters to the new_str\n",
    "    return (new_str)\n",
    "\n",
    "old_macdonald('macdonald')"
   ]
  },
  {
   "cell_type": "code",
   "execution_count": 1,
   "id": "0c8c8d9b",
   "metadata": {},
   "outputs": [
    {
     "data": {
      "text/plain": [
       "'MacDonald'"
      ]
     },
     "execution_count": 1,
     "metadata": {},
     "output_type": "execute_result"
    }
   ],
   "source": [
    "# method 2: Using string slicing and concatenation\n",
    "\n",
    "def old_macdonald(string): # defining a func\n",
    "    \n",
    "    first_half = string[:3] # slicing string upto the third character but third character is not included\n",
    "    second_half = string[3:] # slicing string from third character upto the end.\n",
    "    \n",
    "    return first_half.capitalize() + second_half.capitalize() # concatenating both strings\n",
    "\n",
    "                                                    #capitalize() function makes the first character of the string uppercase\n",
    "\n",
    "old_macdonald('macdonald')"
   ]
  },
  {
   "cell_type": "markdown",
   "id": "bfbb1f5a",
   "metadata": {},
   "source": [
    "2.0 MASTER YODA:\n",
    "\n",
    "Given a sentence, return a sentence with the words reversed\n",
    "\n",
    "master_yoda('I am home') --> 'home am I'\n",
    "master_yoda('We are ready') --> 'ready are We'"
   ]
  },
  {
   "cell_type": "code",
   "execution_count": 47,
   "id": "10092ea5",
   "metadata": {},
   "outputs": [
    {
     "data": {
      "text/plain": [
       "'ready are We'"
      ]
     },
     "execution_count": 47,
     "metadata": {},
     "output_type": "execute_result"
    }
   ],
   "source": [
    "def master_yoda(string): # creating function\n",
    "    \n",
    "    # generally splitting a string returns a list\n",
    "    out = string.split(' ') # here the string is split on ' '(whitespace) and assigned to variable out\n",
    "    \n",
    "    for i in out:     \n",
    "        out = out[::-1] # here [::-1] reverse the characters inside the list in 'out' and re-assign to it\n",
    "    return ' '.join(out) # here the join method joins the characters inside the list (out) with ' '(whitespace) between them\n",
    "\n",
    "master_yoda('We are ready')"
   ]
  },
  {
   "cell_type": "markdown",
   "id": "6a9dff95",
   "metadata": {},
   "source": [
    "3.0 ALMOST THERE:\n",
    "\n",
    "Given an integer n, return True if n is within 10 of either 100 or 200\n",
    "\n",
    "almost_there(90) --> True\n",
    "almost_there(104) --> True\n",
    "almost_there(150) --> False\n",
    "almost_there(209) --> True\n",
    "\n",
    "NOTE: abs(num) returns the absolute value of a number"
   ]
  },
  {
   "cell_type": "code",
   "execution_count": 65,
   "id": "091b9a1a",
   "metadata": {},
   "outputs": [
    {
     "data": {
      "text/plain": [
       "False"
      ]
     },
     "execution_count": 65,
     "metadata": {},
     "output_type": "execute_result"
    }
   ],
   "source": [
    "# method 1: Using conditional statements\n",
    "\n",
    "def almost_there(num):\n",
    "    if (num in range(90,111)) or (num in range(190,211)):\n",
    "        return True\n",
    "    else:\n",
    "        return False\n",
    "    \n",
    "almost_there(150)"
   ]
  },
  {
   "cell_type": "code",
   "execution_count": 4,
   "id": "cd21369f",
   "metadata": {},
   "outputs": [
    {
     "data": {
      "text/plain": [
       "True"
      ]
     },
     "execution_count": 4,
     "metadata": {},
     "output_type": "execute_result"
    }
   ],
   "source": [
    "# method 2: Using abs function\n",
    "\n",
    "def almost_there(n):\n",
    "    \n",
    "    return (abs(100-n) <= 10) or (abs(200-n) <= 10) # the abs() function returns the negative value as positive\n",
    "\n",
    "    # here it checks whether the diff b/w 100 and n is less than or equals to 10\n",
    "    # It also checks the same with 200\n",
    "    # The or function checks whether either one them is True\n",
    "\n",
    "almost_there(209)"
   ]
  },
  {
   "cell_type": "markdown",
   "id": "4642c9e1",
   "metadata": {},
   "source": [
    "### 3.0 Level 2 problems"
   ]
  },
  {
   "cell_type": "markdown",
   "id": "8af7b448",
   "metadata": {},
   "source": [
    "1.0 FIND 33:\n",
    "Given a list of ints, return True if the array contains a 3 next to a 3 somewhere.\n",
    "\n",
    "has_33([1, 3, 3]) → True\n",
    "has_33([1, 3, 1, 3]) → False\n",
    "has_33([3, 1, 3]) → False"
   ]
  },
  {
   "cell_type": "code",
   "execution_count": 31,
   "id": "df4389eb",
   "metadata": {},
   "outputs": [
    {
     "data": {
      "text/plain": [
       "True"
      ]
     },
     "execution_count": 31,
     "metadata": {},
     "output_type": "execute_result"
    }
   ],
   "source": [
    "def has_33(mylist): # def a function which takes in a list as an input\n",
    "    \n",
    "    for i in range(len(mylist) - 1): # for loop iterates through the second-last index of the list\n",
    "                                     #(Since we are looking at pairs of adjacent elements!)\n",
    "            \n",
    "        x = 3                                  \n",
    "        if mylist[i] == x and mylist[i+1] == x: # for each index and index next to it the code checks whether they are equal to 3! \n",
    "            return True\n",
    "                                               # If I use else statement here it will check only first two indices!\n",
    "    return False                               # Hence it is out of for loop!\n",
    "\n",
    "has_33([1, 3, 3])"
   ]
  },
  {
   "cell_type": "code",
   "execution_count": 12,
   "id": "d52b5a5b",
   "metadata": {},
   "outputs": [
    {
     "data": {
      "text/plain": [
       "True"
      ]
     },
     "execution_count": 12,
     "metadata": {},
     "output_type": "execute_result"
    }
   ],
   "source": [
    "# method 2: simplified version\n",
    "\n",
    "def has_33(nums):\n",
    "    for i in range(len(nums) - 1):\n",
    "        if nums[i:i+2] == [3,3]:\n",
    "            return True\n",
    "    return False\n",
    "\n",
    "has_33([1, 3, 3])"
   ]
  },
  {
   "cell_type": "markdown",
   "id": "3d1bcdf0",
   "metadata": {},
   "source": [
    "2.0 PAPER DOLL:\n",
    "Given a string, return a string where for every character in the original there are three characters\n",
    "\n",
    "paper_doll('Hello') --> 'HHHeeellllllooo'\n",
    "paper_doll('Mississippi') --> 'MMMiiissssssiiippppppiii'"
   ]
  },
  {
   "cell_type": "code",
   "execution_count": 16,
   "id": "5357327a",
   "metadata": {},
   "outputs": [
    {
     "data": {
      "text/plain": [
       "'MMMiiissssssiiissssssiiippppppiii'"
      ]
     },
     "execution_count": 16,
     "metadata": {},
     "output_type": "execute_result"
    }
   ],
   "source": [
    "def paper_doll(string):\n",
    "    new_str = ''\n",
    "    for i in range(len(string)):\n",
    "        new_str += string[i]*3\n",
    "    return(new_str)\n",
    "paper_doll('Mississippi')"
   ]
  },
  {
   "cell_type": "markdown",
   "id": "7575c3b6",
   "metadata": {},
   "source": [
    "3.0 BLACKJACK:\n",
    "Given three integers between 1 and 11, if their sum is less than or equal to 21, return their sum. If their sum exceeds 21 and there's an eleven, reduce the total sum by 10. Finally, if the sum (even after adjustment) exceeds 21, return 'BUST'\n",
    "blackjack(5,6,7) --> 18\n",
    "blackjack(9,9,9) --> 'BUST'\n",
    "blackjack(9,9,11) --> 19"
   ]
  },
  {
   "cell_type": "code",
   "execution_count": 20,
   "id": "a2ac53ca",
   "metadata": {},
   "outputs": [
    {
     "data": {
      "text/plain": [
       "19"
      ]
     },
     "execution_count": 20,
     "metadata": {},
     "output_type": "execute_result"
    }
   ],
   "source": [
    "def blackjack(a,b,c):\n",
    "    total = a+b+c\n",
    "    if total <= 21:\n",
    "        return(total)\n",
    "    elif total > 21 and ((a == 11) or (b==11) or (c==11)):\n",
    "        new_t = total - 10\n",
    "        return(new_t)\n",
    "    elif total > 21:\n",
    "        return('BUST')\n",
    "\n",
    "blackjack(9,9,11)"
   ]
  },
  {
   "cell_type": "markdown",
   "id": "5369f588",
   "metadata": {},
   "source": [
    "SUMMER OF '69:\n",
    "Return the sum of the numbers in the array, except ignore sections of numbers starting with a 6 and extending to the next 9 (every 6 will be followed by at least one 9). Return 0 for no numbers.\n",
    "summer_69([1, 3, 5]) --> 9\n",
    "summer_69([4, 5, 6, 7, 8, 9]) --> 9\n",
    "summer_69([2, 1, 6, 9, 11]) --> 14"
   ]
  },
  {
   "cell_type": "code",
   "execution_count": 13,
   "id": "bc028e5a",
   "metadata": {},
   "outputs": [
    {
     "data": {
      "text/plain": [
       "14"
      ]
     },
     "execution_count": 13,
     "metadata": {},
     "output_type": "execute_result"
    }
   ],
   "source": [
    "# method 1: using multiple if statements\n",
    "\n",
    "def summer_69(mylist):\n",
    "    ignore_numbers = False\n",
    "    total = 0\n",
    "    for i in mylist:\n",
    "        if i == 6:\n",
    "            ignore_numbers = True\n",
    "        elif i == 9:\n",
    "            ignore_numbers = False\n",
    "        elif ignore_numbers is False:\n",
    "            total += i\n",
    "    return total\n",
    "    \n",
    "summer_69([2, 1, 6, 9, 11])"
   ]
  },
  {
   "cell_type": "code",
   "execution_count": 14,
   "id": "c0c18356",
   "metadata": {},
   "outputs": [
    {
     "data": {
      "text/plain": [
       "14"
      ]
     },
     "execution_count": 14,
     "metadata": {},
     "output_type": "execute_result"
    }
   ],
   "source": [
    "# method 2: using while loop\n",
    "\n",
    "def summer_69(mylist):\n",
    "    add = True\n",
    "    total = 0\n",
    "    for i in mylist:\n",
    "        while add:\n",
    "            if i != 6:\n",
    "                total += i\n",
    "                break\n",
    "            else:\n",
    "                add = False\n",
    "        while not add:\n",
    "            if i != 9:\n",
    "                break\n",
    "            else:\n",
    "                add = True\n",
    "    return total\n",
    "                \n",
    "summer_69([2, 1, 6, 9, 11])"
   ]
  },
  {
   "cell_type": "markdown",
   "id": "d2bd7ef7",
   "metadata": {},
   "source": [
    "### 4.0 Challenging problems"
   ]
  },
  {
   "cell_type": "markdown",
   "id": "985cd1bb",
   "metadata": {},
   "source": [
    "1.0 SPY GAME:\n",
    "Write a function that takes in a list of integers and returns True if it contains 007 in order\n",
    "spy_game([1,2,4,0,0,7,5]) --> True\n",
    "spy_game([1,0,2,4,0,5,7]) --> True\n",
    "spy_game([1,7,2,0,4,5,0]) --> False"
   ]
  },
  {
   "cell_type": "code",
   "execution_count": 34,
   "id": "8474e08e",
   "metadata": {},
   "outputs": [
    {
     "data": {
      "text/plain": [
       "False"
      ]
     },
     "execution_count": 34,
     "metadata": {},
     "output_type": "execute_result"
    }
   ],
   "source": [
    "# method 1: By comparing two lists\n",
    "\n",
    "def spy_game(mylist):\n",
    "    spy_list = [0,0,7]         # a list for comparison\n",
    "    \n",
    "    new_list = []              # an empty list to append the values from mylist\n",
    "    \n",
    "    for i in mylist:         \n",
    "        if (i == 0) or (i == 7): # the condition checks whether each element in mylist is equal to 0 or 7,\n",
    "            \n",
    "            new_list.append(i)   # and append it to new_list if they are equal!\n",
    "            \n",
    "        elif new_list[-3:] == spy_list: # now it checks whether the first three indices of new_list is equal to the spy_list\n",
    "            return True\n",
    "    else:                       # else statement is outside for loop otherwise for loop only checks first element!\n",
    "        return False\n",
    "\n",
    "spy_game([1,7,2,0,4,5,0])"
   ]
  },
  {
   "cell_type": "code",
   "execution_count": 5,
   "id": "eb1f5650",
   "metadata": {},
   "outputs": [
    {
     "data": {
      "text/plain": [
       "True"
      ]
     },
     "execution_count": 5,
     "metadata": {},
     "output_type": "execute_result"
    }
   ],
   "source": [
    "# method 2: using pop() function.\n",
    "\n",
    "def spy_game(mylist):\n",
    "    spy_list = [0,0,7,'x']  # a list with said values and a string 'x'\n",
    "    for i in mylist:\n",
    "        if i == spy_list[0]: # here the condition checks whether each element in mylist is equal to first element of spy_list\n",
    "            \n",
    "            spy_list.pop(0)  # pop() function removes the first element of spy_list if the above condition is True\n",
    "            \n",
    "                        # 'x' acts a place holder, otherwise if the list has only one element indexing won't work\n",
    "                        # when pop() function reaches the last element (7), it can't pop 0 because it can't access the index 0\n",
    "                        # As it doesn't exist when there is only one element in a list!    \n",
    "    \n",
    "    return len(spy_list) == 1 # returns True if this condition is True\n",
    "\n",
    "spy_game([1,2,4,0,0,7,5])"
   ]
  },
  {
   "cell_type": "markdown",
   "id": "452541d2",
   "metadata": {},
   "source": [
    "2.0 COUNT PRIMES:\n",
    "\n",
    "Write a function that returns the number of prime numbers that exist up to and including a given number\n",
    "count_primes(100) --> 25\n",
    "\n",
    "By convention, 0 and 1 are not prime"
   ]
  },
  {
   "cell_type": "code",
   "execution_count": 6,
   "id": "dddc3713",
   "metadata": {},
   "outputs": [
    {
     "data": {
      "text/plain": [
       "25"
      ]
     },
     "execution_count": 6,
     "metadata": {},
     "output_type": "execute_result"
    }
   ],
   "source": [
    "def count_primes(num):\n",
    "    # If num is less than 2, return 0 because there are no primes less than 2\n",
    "    if num < 2:\n",
    "        return 0\n",
    "    \n",
    "    # Initialize a list of primes with the first prime number, 2\n",
    "    primes = [2]\n",
    "    \n",
    "    # Start checking for primes with the next odd number, 3\n",
    "    x = 3\n",
    "    \n",
    "    # Loop until x is greater than num\n",
    "    while x <= num:\n",
    "        # For each number, check if it is divisible by any of the previous primes\n",
    "        for y in primes:\n",
    "            # If x is divisible by any prime, it's not a prime itself\n",
    "            if x % y == 0:\n",
    "                # Move on to the next number\n",
    "                x += 2\n",
    "                # Break out of the for loop to start checking the next x\n",
    "                break\n",
    "        # If the for loop runs to completion, x is a prime\n",
    "        else:\n",
    "            # Add it to the list of primes\n",
    "            primes.append(x)\n",
    "            # Move on to the next odd number\n",
    "            x += 2\n",
    "            \n",
    "    # Return the number of primes found\n",
    "    return len(primes)\n",
    "\n",
    "count_primes(100)"
   ]
  },
  {
   "cell_type": "markdown",
   "id": "4b60a0f4",
   "metadata": {},
   "source": [
    "Algorithm breakdown with an example\n",
    "\n",
    "Suppose we want to find the number of primes up to 10. \n",
    "We start with an empty list of primes and the variable x set to 3:\n",
    "\n",
    "num = 10\n",
    "primes = []\n",
    "x = 3\n",
    "\n",
    "The first prime number is 2, so we add it to the list of primes:\n",
    "\n",
    "primes = [2]\n",
    "\n",
    "Now we start checking odd numbers starting from 3. \n",
    "First, we check if 3 is divisible by 2 (the only prime we have so far). \n",
    "It's not, so we move on to the next prime, 3. \n",
    "Now we check if 3 is divisible by 3. \n",
    "It is, so we move on to the next odd number, 5. \n",
    "We check if 5 is divisible by 2 (no), then by 3 (no), so we move on to the next odd number, 7. \n",
    "We check if 7 is divisible by 2 (no), then by 3 (no), then by 5 (no), so we add 7 to the list of primes:\n",
    "\n",
    "primes = [2, 3, 5, 7]\n",
    "\n",
    "Finally, we check the next odd number, 9. \n",
    "We check if 9 is divisible by 2 (yes), so we move on to the next odd number, 11. \n",
    "But now x is greater than num, so we stop the loop. \n",
    "We have found 4 prime numbers up to 10."
   ]
  },
  {
   "cell_type": "markdown",
   "id": "15209265",
   "metadata": {},
   "source": [
    "### Just for fun:\n",
    "#### PRINT BIG: Write a function that takes in a single letter, and returns a 5x5 representation of that letter\n",
    "    print_big('a')\n",
    "    \n",
    "    out:   *  \n",
    "          * *\n",
    "         *****\n",
    "         *   *\n",
    "         *   *\n",
    "HINT: Consider making a dictionary of possible patterns, and mapping the alphabet to specific 5-line combinations of patterns. <br>For purposes of this exercise, it's ok if your dictionary stops at \"E\"."
   ]
  },
  {
   "cell_type": "code",
   "execution_count": 9,
   "id": "c0b67b19",
   "metadata": {},
   "outputs": [
    {
     "name": "stdout",
     "output_type": "stream",
     "text": [
      "****\n",
      "*   *\n",
      "****\n",
      "*   *\n",
      "****\n"
     ]
    }
   ],
   "source": [
    "def print_big(letter):\n",
    "    patterns = {1:'  *  ', 2:' * * ', 3:'*****', 4:'*   *', 5:' *** ', 6:'*', 7:'*  *', 8:'***', 9:'****'}\n",
    "    alphabet = {'A':[1,2,3,4,4], 'B':[9,4,9,4,9], 'C':[3,6,6,6,3], 'D':[8,7,4,7,8], 'E':[3,6,8,6,3]}\n",
    "    for i in alphabet[letter.upper()]:\n",
    "        print(patterns[i])\n",
    "\n",
    "print_big('B')"
   ]
  },
  {
   "cell_type": "markdown",
   "id": "ae7725ac",
   "metadata": {},
   "source": [
    "Algorithm breakdown\n",
    "\n",
    "(i) For the dictionaries:\n",
    "\n",
    "The print_big function takes a single letter as input.\n",
    "\n",
    "There are two dictionaries defined in the function - patterns and alphabet.\n",
    "\n",
    "patterns is a dictionary that maps integers from 1 to 9 to 5x5 patterns that represent the various parts of a letter. For example, patterns[1] maps to the pattern ' * ', which represents the top of the letter 'A'.\n",
    "\n",
    "alphabet is a dictionary that maps each letter to a list of integers from 1 to 9, which represent the patterns needed to draw that letter. For example, the letter 'A' is mapped to the list [1,2,3,4,4], which represents the patterns needed to draw the top, left diagonal, center, right diagonal, and bottom parts of the letter 'A', respectively.\n",
    "\n",
    "The function then gets the list of patterns needed to draw the given letter by looking up the letter in the alphabet dictionary, and converting it to uppercase using the upper() method.\n",
    "\n",
    "(ii) The For loop:\n",
    "\n",
    "1.pattern takes on the value of the first element in the list of patterns for the given letter.\n",
    "\n",
    "2.The corresponding pattern string is looked up in the patterns dictionary using the pattern value as the key.\n",
    "\n",
    "3.The pattern string is printed to the console.\n",
    "\n",
    "4.The loop iterates again, this time taking on the value of the next element in the list of patterns for the given letter.\n",
    "\n",
    "5.Steps 2-4 are repeated until all the patterns for the letter have been printed.\n",
    "\n",
    "6.Essentially, the loop is just printing out each line of the letter one at a time.\n",
    "\n",
    "7.The order in which the lines are printed is determined by the order of the pattern numbers in the list for the given letter in the alphabet dictionary."
   ]
  }
 ],
 "metadata": {
  "kernelspec": {
   "display_name": "Python 3 (ipykernel)",
   "language": "python",
   "name": "python3"
  },
  "language_info": {
   "codemirror_mode": {
    "name": "ipython",
    "version": 3
   },
   "file_extension": ".py",
   "mimetype": "text/x-python",
   "name": "python",
   "nbconvert_exporter": "python",
   "pygments_lexer": "ipython3",
   "version": "3.9.13"
  }
 },
 "nbformat": 4,
 "nbformat_minor": 5
}
